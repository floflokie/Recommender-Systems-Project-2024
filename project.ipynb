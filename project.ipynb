{
 "cells": [
  {
   "cell_type": "markdown",
   "source": [
    "# Project: Movie Paring Recommender System"
   ],
   "metadata": {
    "collapsed": false
   },
   "id": "f709eba9fa6daca5"
  },
  {
   "cell_type": "markdown",
   "source": [
    "## Data Collection and Preprocessing"
   ],
   "metadata": {
    "collapsed": false
   },
   "id": "7cbdafd2ab97e5df"
  },
  {
   "cell_type": "markdown",
   "source": [
    "### Downloading the MovieLens and IMDb datasets"
   ],
   "metadata": {
    "collapsed": false
   },
   "id": "a88a780a684f1178"
  },
  {
   "cell_type": "code",
   "outputs": [],
   "source": [
    "import pandas as pd\n",
    "import os\n",
    "import re"
   ],
   "metadata": {
    "collapsed": false,
    "ExecuteTime": {
     "end_time": "2024-07-04T14:28:52.806193463Z",
     "start_time": "2024-07-04T14:28:52.792799389Z"
    }
   },
   "id": "808d92bbb24ebad0",
   "execution_count": 170
  },
  {
   "cell_type": "markdown",
   "source": [
    "#### Download the MovieLens dataset and merge them"
   ],
   "metadata": {
    "collapsed": false
   },
   "id": "8c60aa0f70dc47f"
  },
  {
   "cell_type": "code",
   "outputs": [],
   "source": [
    "if not os.path.exists('ml-1m'):\n",
    "    !wget http://files.grouplens.org/datasets/movielens/ml-1m.zip\n",
    "    !unzip ml-1m.zip\n",
    "    !rm ml-1m.zip"
   ],
   "metadata": {
    "collapsed": false,
    "ExecuteTime": {
     "end_time": "2024-07-04T14:28:52.850887907Z",
     "start_time": "2024-07-04T14:28:52.799477554Z"
    }
   },
   "id": "4b8a3de03b7dce44",
   "execution_count": 171
  },
  {
   "cell_type": "code",
   "outputs": [
    {
     "name": "stdout",
     "output_type": "stream",
     "text": [
      "The movies MovieLens dataset:\n",
      "   movieId                               title                        genres\n",
      "0        1                    Toy Story (1995)   Animation|Children's|Comedy\n",
      "1        2                      Jumanji (1995)  Adventure|Children's|Fantasy\n",
      "2        3             Grumpier Old Men (1995)                Comedy|Romance\n",
      "3        4            Waiting to Exhale (1995)                  Comedy|Drama\n",
      "4        5  Father of the Bride Part II (1995)                        Comedy\n",
      "The number of rows of the movies Movielens dataset is 3883\n",
      "The ratings MovieLens dataset:\n",
      "   userId  movieId  rating  timestamp\n",
      "0       1     1193       5  978300760\n",
      "1       1      661       3  978302109\n",
      "2       1      914       3  978301968\n",
      "3       1     3408       4  978300275\n",
      "4       1     2355       5  978824291\n",
      "The number of rows of the ratings Movielens dataset is 1000209\n"
     ]
    }
   ],
   "source": [
    "movies_MovieLens = pd.read_csv('ml-1m/movies.dat', sep='::', engine='python', header=None, names=['movieId', 'title', 'genres'], encoding='ISO-8859-1')\n",
    "ratings_MovieLens = pd.read_csv('ml-1m/ratings.dat', sep='::', engine='python', header=None, names=['userId', 'movieId', 'rating', 'timestamp'], encoding='ISO-8859-1')\n",
    "print(\"The movies MovieLens dataset:\")\n",
    "print(movies_MovieLens.head())\n",
    "print(f\"The number of rows of the movies Movielens dataset is {movies_MovieLens.shape[0]}\")\n",
    "print(\"The ratings MovieLens dataset:\")\n",
    "print(ratings_MovieLens.head())\n",
    "print(f\"The number of rows of the ratings Movielens dataset is {ratings_MovieLens.shape[0]}\")"
   ],
   "metadata": {
    "collapsed": false,
    "ExecuteTime": {
     "end_time": "2024-07-04T14:28:57.760013696Z",
     "start_time": "2024-07-04T14:28:52.840118677Z"
    }
   },
   "id": "37ec6adbfbb89d1a",
   "execution_count": 172
  },
  {
   "cell_type": "code",
   "outputs": [
    {
     "name": "stdout",
     "output_type": "stream",
     "text": [
      "The merge MovieLens dataset:\n",
      "   userId  movieId  rating  timestamp                                   title  \\\n",
      "0       1     1193       5  978300760  One Flew Over the Cuckoo's Nest (1975)   \n",
      "1       2     1193       5  978298413  One Flew Over the Cuckoo's Nest (1975)   \n",
      "2      12     1193       4  978220179  One Flew Over the Cuckoo's Nest (1975)   \n",
      "3      15     1193       4  978199279  One Flew Over the Cuckoo's Nest (1975)   \n",
      "4      17     1193       5  978158471  One Flew Over the Cuckoo's Nest (1975)   \n",
      "\n",
      "  genres  \n",
      "0  Drama  \n",
      "1  Drama  \n",
      "2  Drama  \n",
      "3  Drama  \n",
      "4  Drama  \n",
      "The number of rows of the merge Movielens dataset is 1000209\n"
     ]
    }
   ],
   "source": [
    "merge_MovieLens = pd.merge(ratings_MovieLens, movies_MovieLens, on='movieId')\n",
    "print(\"The merge MovieLens dataset:\")\n",
    "print(merge_MovieLens.head())\n",
    "print(f\"The number of rows of the merge Movielens dataset is {merge_MovieLens.shape[0]}\")"
   ],
   "metadata": {
    "collapsed": false,
    "ExecuteTime": {
     "end_time": "2024-07-04T14:28:57.885724993Z",
     "start_time": "2024-07-04T14:28:57.760471179Z"
    }
   },
   "id": "6505227fd7504e06",
   "execution_count": 173
  },
  {
   "cell_type": "code",
   "outputs": [],
   "source": [
    "# delete the ratings and movies MovieLens datasets to make some memory space\n",
    "del movies_MovieLens\n",
    "del ratings_MovieLens"
   ],
   "metadata": {
    "collapsed": false,
    "ExecuteTime": {
     "end_time": "2024-07-04T14:28:57.887124888Z",
     "start_time": "2024-07-04T14:28:57.872552119Z"
    }
   },
   "id": "73d99ad6e6d78ebf",
   "execution_count": 174
  },
  {
   "cell_type": "code",
   "outputs": [
    {
     "name": "stdout",
     "output_type": "stream",
     "text": [
      "The merge MovieLens dataset with the column year:\n",
      "   userId  movieId  rating  timestamp                            title genres  \\\n",
      "0       1     1193       5  978300760  One Flew Over the Cuckoo's Nest  Drama   \n",
      "1       2     1193       5  978298413  One Flew Over the Cuckoo's Nest  Drama   \n",
      "2      12     1193       4  978220179  One Flew Over the Cuckoo's Nest  Drama   \n",
      "3      15     1193       4  978199279  One Flew Over the Cuckoo's Nest  Drama   \n",
      "4      17     1193       5  978158471  One Flew Over the Cuckoo's Nest  Drama   \n",
      "\n",
      "   year  \n",
      "0  1975  \n",
      "1  1975  \n",
      "2  1975  \n",
      "3  1975  \n",
      "4  1975  \n",
      "The number of rows of the merge Movielens dataset is 1000209\n"
     ]
    }
   ],
   "source": [
    "year_regex = re.compile(r'\\((\\d{4})\\)')\n",
    "merge_MovieLens['year'] = merge_MovieLens['title'].str.extract(r'\\((\\d{4})\\)').astype(int)\n",
    "merge_MovieLens['title'] = merge_MovieLens['title'].apply(lambda x: year_regex.sub(\"\", x).strip())\n",
    "print(\"The merge MovieLens dataset with the column year:\")\n",
    "print(merge_MovieLens.head())\n",
    "print(f\"The number of rows of the merge Movielens dataset is {merge_MovieLens.shape[0]}\")"
   ],
   "metadata": {
    "collapsed": false,
    "ExecuteTime": {
     "end_time": "2024-07-04T14:29:00.469929955Z",
     "start_time": "2024-07-04T14:28:57.876911125Z"
    }
   },
   "id": "9b3745eb2ee95565",
   "execution_count": 175
  },
  {
   "cell_type": "markdown",
   "source": [
    "##### Feature Engineering"
   ],
   "metadata": {
    "collapsed": false
   },
   "id": "71abed4aa3649336"
  },
  {
   "cell_type": "markdown",
   "source": [
    "Remove the timestamp column"
   ],
   "metadata": {
    "collapsed": false
   },
   "id": "343831edbf55adff"
  },
  {
   "cell_type": "code",
   "outputs": [
    {
     "name": "stdout",
     "output_type": "stream",
     "text": [
      "The merge MovieLens dataset without the column timestamp:\n",
      "   userId  movieId  rating                            title genres  year\n",
      "0       1     1193       5  One Flew Over the Cuckoo's Nest  Drama  1975\n",
      "1       2     1193       5  One Flew Over the Cuckoo's Nest  Drama  1975\n",
      "2      12     1193       4  One Flew Over the Cuckoo's Nest  Drama  1975\n",
      "3      15     1193       4  One Flew Over the Cuckoo's Nest  Drama  1975\n",
      "4      17     1193       5  One Flew Over the Cuckoo's Nest  Drama  1975\n",
      "The number of rows of the merge Movielens dataset is 1000209\n"
     ]
    }
   ],
   "source": [
    "merge_MovieLens.drop('timestamp', axis=1, inplace=True)\n",
    "print(\"The merge MovieLens dataset without the column timestamp:\")\n",
    "print(merge_MovieLens.head())\n",
    "print(f\"The number of rows of the merge Movielens dataset is {merge_MovieLens.shape[0]}\")"
   ],
   "metadata": {
    "collapsed": false,
    "ExecuteTime": {
     "end_time": "2024-07-04T14:29:00.543012460Z",
     "start_time": "2024-07-04T14:29:00.478683586Z"
    }
   },
   "id": "72c6ce25f02a456e",
   "execution_count": 176
  },
  {
   "cell_type": "markdown",
   "source": [
    "Change the genres from string to list of string and order the list"
   ],
   "metadata": {
    "collapsed": false
   },
   "id": "1e9ef72fda5ed5b7"
  },
  {
   "cell_type": "code",
   "outputs": [
    {
     "name": "stdout",
     "output_type": "stream",
     "text": [
      "   userId  movieId  rating                            title   genres  year\n",
      "0       1     1193       5  One Flew Over the Cuckoo's Nest  [Drama]  1975\n",
      "1       2     1193       5  One Flew Over the Cuckoo's Nest  [Drama]  1975\n",
      "2      12     1193       4  One Flew Over the Cuckoo's Nest  [Drama]  1975\n",
      "3      15     1193       4  One Flew Over the Cuckoo's Nest  [Drama]  1975\n",
      "4      17     1193       5  One Flew Over the Cuckoo's Nest  [Drama]  1975\n"
     ]
    }
   ],
   "source": [
    "merge_MovieLens['genres'] = merge_MovieLens['genres'].str.split('|')\n",
    "merge_MovieLens['genres'] = merge_MovieLens['genres'].apply(lambda x: sorted(x))\n",
    "print(merge_MovieLens.head())"
   ],
   "metadata": {
    "collapsed": false,
    "ExecuteTime": {
     "end_time": "2024-07-04T14:29:03.908569902Z",
     "start_time": "2024-07-04T14:29:00.560797297Z"
    }
   },
   "id": "ddba6cee5f44cd21",
   "execution_count": 177
  },
  {
   "cell_type": "markdown",
   "source": [
    "#### Download the IMDb datasets and merge them"
   ],
   "metadata": {
    "collapsed": false
   },
   "id": "be11884705e9518c"
  },
  {
   "cell_type": "code",
   "outputs": [],
   "source": [
    "if not os.path.exists('title.basics.tsv.gz'):\n",
    "    !wget https://datasets.imdbws.com/title.basics.tsv.gz"
   ],
   "metadata": {
    "collapsed": false,
    "ExecuteTime": {
     "end_time": "2024-07-04T14:29:03.909679212Z",
     "start_time": "2024-07-04T14:29:03.900107920Z"
    }
   },
   "id": "8a785f38684aaf83",
   "execution_count": 178
  },
  {
   "cell_type": "code",
   "outputs": [],
   "source": [
    "if not os.path.exists('title.ratings.tsv.gz'):\n",
    "    !wget https://datasets.imdbws.com/title.ratings.tsv.gz"
   ],
   "metadata": {
    "collapsed": false,
    "ExecuteTime": {
     "end_time": "2024-07-04T14:29:03.910621289Z",
     "start_time": "2024-07-04T14:29:03.900303065Z"
    }
   },
   "id": "451031bac28f27f2",
   "execution_count": 179
  },
  {
   "cell_type": "code",
   "outputs": [],
   "source": [
    "if not os.path.exists('title.crew.tsv.gz'):\n",
    "    !wget https://datasets.imdbws.com/title.crew.tsv.gz"
   ],
   "metadata": {
    "collapsed": false,
    "ExecuteTime": {
     "end_time": "2024-07-04T14:29:03.911559820Z",
     "start_time": "2024-07-04T14:29:03.900427115Z"
    }
   },
   "id": "439828bce5181de7",
   "execution_count": 180
  },
  {
   "cell_type": "markdown",
   "source": [
    "Load the dataset movies IMDb with only the columns: tconst, titleType, primaryTitle, startYear, endYear, and genres"
   ],
   "metadata": {
    "collapsed": false
   },
   "id": "67c979bb71a1557a"
  },
  {
   "cell_type": "code",
   "outputs": [
    {
     "name": "stdout",
     "output_type": "stream",
     "text": [
      "The movies IMDb dataset:\n",
      "      tconst titleType            primaryTitle startYear  \\\n",
      "0  tt0000001     short              Carmencita      1894   \n",
      "1  tt0000002     short  Le clown et ses chiens      1892   \n",
      "2  tt0000003     short          Pauvre Pierrot      1892   \n",
      "3  tt0000004     short             Un bon bock      1892   \n",
      "4  tt0000005     short        Blacksmith Scene      1893   \n",
      "\n",
      "                     genres  \n",
      "0         Documentary,Short  \n",
      "1           Animation,Short  \n",
      "2  Animation,Comedy,Romance  \n",
      "3           Animation,Short  \n",
      "4              Comedy,Short  \n",
      "The number of rows of the movies IMDb dataset is 10904346\n"
     ]
    }
   ],
   "source": [
    "only_columns = ['tconst', 'titleType', 'primaryTitle', 'startYear', 'genres']\n",
    "movies_IMDb = pd.read_csv('title.basics.tsv.gz', sep='\\t', usecols=only_columns,compression='gzip')\n",
    "print(\"The movies IMDb dataset:\")\n",
    "print(movies_IMDb.head())\n",
    "print(f\"The number of rows of the movies IMDb dataset is {movies_IMDb.shape[0]}\")"
   ],
   "metadata": {
    "collapsed": false,
    "ExecuteTime": {
     "end_time": "2024-07-04T14:29:17.640674658Z",
     "start_time": "2024-07-04T14:29:03.900513866Z"
    }
   },
   "id": "2ccdbc8bb5747fb1",
   "execution_count": 181
  },
  {
   "cell_type": "markdown",
   "source": [
    "Remove series and short from the dataset"
   ],
   "metadata": {
    "collapsed": false
   },
   "id": "d5e3f52bba00a2d9"
  },
  {
   "cell_type": "code",
   "outputs": [
    {
     "name": "stdout",
     "output_type": "stream",
     "text": [
      "The movies IMDb dataset:\n",
      "        tconst titleType                   primaryTitle startYear  \\\n",
      "8    tt0000009     movie                     Miss Jerry      1894   \n",
      "144  tt0000147     movie  The Corbett-Fitzsimmons Fight      1897   \n",
      "498  tt0000502     movie                       Bohemios      1905   \n",
      "570  tt0000574     movie    The Story of the Kelly Gang      1906   \n",
      "587  tt0000591     movie               The Prodigal Son      1907   \n",
      "\n",
      "                         genres  \n",
      "8                       Romance  \n",
      "144      Documentary,News,Sport  \n",
      "498                          \\N  \n",
      "570  Action,Adventure,Biography  \n",
      "587                       Drama  \n",
      "The number of rows of the movies IMDb dataset is 685353\n"
     ]
    }
   ],
   "source": [
    "movies_IMDb = movies_IMDb[movies_IMDb['titleType'] == 'movie']\n",
    "print(\"The movies IMDb dataset:\")\n",
    "print(movies_IMDb.head())\n",
    "print(f\"The number of rows of the movies IMDb dataset is {movies_IMDb.shape[0]}\")"
   ],
   "metadata": {
    "collapsed": false,
    "ExecuteTime": {
     "end_time": "2024-07-04T14:29:18.643413001Z",
     "start_time": "2024-07-04T14:29:18.123097091Z"
    }
   },
   "id": "a3b7a2d882c1e496",
   "execution_count": 182
  },
  {
   "cell_type": "markdown",
   "source": [
    "Removing the columns: titleType to make the dataset lighter for the following merges"
   ],
   "metadata": {
    "collapsed": false
   },
   "id": "36beb6cf4f1fa834"
  },
  {
   "cell_type": "code",
   "outputs": [],
   "source": [
    "movies_IMDb.drop('titleType', axis=1, inplace=True)"
   ],
   "metadata": {
    "collapsed": false,
    "ExecuteTime": {
     "end_time": "2024-07-04T14:29:18.706199829Z",
     "start_time": "2024-07-04T14:29:18.630105973Z"
    }
   },
   "id": "5b20f8c82a785984",
   "execution_count": 183
  },
  {
   "cell_type": "markdown",
   "source": [
    "Add the ratings with only the columns: tconst, averageRating to the movies IMDb dataset"
   ],
   "metadata": {
    "collapsed": false
   },
   "id": "e16f92bca8bb66bc"
  },
  {
   "cell_type": "code",
   "outputs": [
    {
     "name": "stdout",
     "output_type": "stream",
     "text": [
      "The movies IMDb dataset:\n",
      "      tconst                   primaryTitle startYear  \\\n",
      "0  tt0000009                     Miss Jerry      1894   \n",
      "1  tt0000147  The Corbett-Fitzsimmons Fight      1897   \n",
      "2  tt0000502                       Bohemios      1905   \n",
      "3  tt0000574    The Story of the Kelly Gang      1906   \n",
      "4  tt0000591               The Prodigal Son      1907   \n",
      "\n",
      "                       genres  averageRating  \n",
      "0                     Romance            5.4  \n",
      "1      Documentary,News,Sport            5.2  \n",
      "2                          \\N            4.4  \n",
      "3  Action,Adventure,Biography            6.0  \n",
      "4                       Drama            5.6  \n",
      "The number of rows of the movies IMDb dataset is 685353\n"
     ]
    }
   ],
   "source": [
    "only_columns = ['tconst', 'averageRating']\n",
    "movies_IMDb = pd.merge(movies_IMDb, pd.read_csv('title.ratings.tsv.gz', sep='\\t', usecols=only_columns, compression='gzip'), on='tconst', how='left')\n",
    "print(\"The movies IMDb dataset:\")\n",
    "print(movies_IMDb.head())\n",
    "print(f\"The number of rows of the movies IMDb dataset is {movies_IMDb.shape[0]}\")"
   ],
   "metadata": {
    "collapsed": false,
    "ExecuteTime": {
     "end_time": "2024-07-04T14:29:20.516216455Z",
     "start_time": "2024-07-04T14:29:18.698071831Z"
    }
   },
   "id": "7f5e1375251a7f6c",
   "execution_count": 184
  },
  {
   "cell_type": "markdown",
   "source": [
    "Add the crew to the movies IMDb dataset"
   ],
   "metadata": {
    "collapsed": false
   },
   "id": "99e301042d11133a"
  },
  {
   "cell_type": "code",
   "outputs": [
    {
     "name": "stdout",
     "output_type": "stream",
     "text": [
      "The movies IMDb dataset:\n",
      "      tconst                   primaryTitle startYear  \\\n",
      "0  tt0000009                     Miss Jerry      1894   \n",
      "1  tt0000147  The Corbett-Fitzsimmons Fight      1897   \n",
      "2  tt0000502                       Bohemios      1905   \n",
      "3  tt0000574    The Story of the Kelly Gang      1906   \n",
      "4  tt0000591               The Prodigal Son      1907   \n",
      "\n",
      "                       genres  averageRating  directors  \\\n",
      "0                     Romance            5.4  nm0085156   \n",
      "1      Documentary,News,Sport            5.2  nm0714557   \n",
      "2                          \\N            4.4  nm0063413   \n",
      "3  Action,Adventure,Biography            6.0  nm0846879   \n",
      "4                       Drama            5.6  nm0141150   \n",
      "\n",
      "                         writers  \n",
      "0                      nm0085156  \n",
      "1                             \\N  \n",
      "2  nm0063413,nm0657268,nm0675388  \n",
      "3                      nm0846879  \n",
      "4                      nm0141150  \n",
      "The number of rows of the movies IMDb dataset is 685353\n"
     ]
    }
   ],
   "source": [
    "movies_IMDb = pd.merge(movies_IMDb, pd.read_csv('title.crew.tsv.gz', sep='\\t', compression='gzip'), on='tconst', how='left')\n",
    "print(\"The movies IMDb dataset:\")\n",
    "print(movies_IMDb.head())\n",
    "print(f\"The number of rows of the movies IMDb dataset is {movies_IMDb.shape[0]}\")"
   ],
   "metadata": {
    "collapsed": false,
    "ExecuteTime": {
     "end_time": "2024-07-04T14:29:35.996745406Z",
     "start_time": "2024-07-04T14:29:20.520497540Z"
    }
   },
   "id": "6f7a112f2c87c8f1",
   "execution_count": 185
  },
  {
   "cell_type": "code",
   "outputs": [
    {
     "name": "stdout",
     "output_type": "stream",
     "text": [
      "The movies IMDb dataset:\n",
      "      tconst                          title  year                      genres  \\\n",
      "0  tt0000009                     Miss Jerry  1894                     Romance   \n",
      "1  tt0000147  The Corbett-Fitzsimmons Fight  1897      Documentary,News,Sport   \n",
      "2  tt0000502                       Bohemios  1905                          \\N   \n",
      "3  tt0000574    The Story of the Kelly Gang  1906  Action,Adventure,Biography   \n",
      "4  tt0000591               The Prodigal Son  1907                       Drama   \n",
      "\n",
      "   averageRating  directors                        writers  \n",
      "0            5.4  nm0085156                      nm0085156  \n",
      "1            5.2  nm0714557                             \\N  \n",
      "2            4.4  nm0063413  nm0063413,nm0657268,nm0675388  \n",
      "3            6.0  nm0846879                      nm0846879  \n",
      "4            5.6  nm0141150                      nm0141150  \n",
      "The number of rows of the movies IMDb dataset is 685353\n"
     ]
    }
   ],
   "source": [
    "# rename the column primaryTitle to title\n",
    "movies_IMDb.rename(columns={'primaryTitle': 'title', 'startYear': 'year'}, inplace=True)\n",
    "print(\"The movies IMDb dataset:\")\n",
    "print(movies_IMDb.head())\n",
    "print(f\"The number of rows of the movies IMDb dataset is {movies_IMDb.shape[0]}\")"
   ],
   "metadata": {
    "collapsed": false,
    "ExecuteTime": {
     "end_time": "2024-07-04T14:29:35.998291605Z",
     "start_time": "2024-07-04T14:29:35.976056765Z"
    }
   },
   "id": "3ce8424a29c2267e",
   "execution_count": 186
  },
  {
   "cell_type": "markdown",
   "source": [
    "Change the genres from string to list of string and order the list"
   ],
   "metadata": {
    "collapsed": false
   },
   "id": "a99a40f5022e4ffd"
  },
  {
   "cell_type": "code",
   "outputs": [
    {
     "name": "stdout",
     "output_type": "stream",
     "text": [
      "      tconst                          title  year  \\\n",
      "0  tt0000009                     Miss Jerry  1894   \n",
      "1  tt0000147  The Corbett-Fitzsimmons Fight  1897   \n",
      "2  tt0000502                       Bohemios  1905   \n",
      "3  tt0000574    The Story of the Kelly Gang  1906   \n",
      "4  tt0000591               The Prodigal Son  1907   \n",
      "\n",
      "                           genres  averageRating  directors  \\\n",
      "0                       [Romance]            5.4  nm0085156   \n",
      "1      [Documentary, News, Sport]            5.2  nm0714557   \n",
      "2                              []            4.4  nm0063413   \n",
      "3  [Action, Adventure, Biography]            6.0  nm0846879   \n",
      "4                         [Drama]            5.6  nm0141150   \n",
      "\n",
      "                         writers  \n",
      "0                      nm0085156  \n",
      "1                             \\N  \n",
      "2  nm0063413,nm0657268,nm0675388  \n",
      "3                      nm0846879  \n",
      "4                      nm0141150  \n",
      "The number of rows of the movies IMDb dataset is 685353\n"
     ]
    }
   ],
   "source": [
    "movies_IMDb['genres'] = movies_IMDb['genres'].str.split(',')\n",
    "movies_IMDb['genres'] = movies_IMDb['genres'].apply(lambda x: [] if x == ['\\\\N'] else x)\n",
    "movies_IMDb['genres'] = movies_IMDb['genres'].apply(lambda x: sorted(x))\n",
    "print(movies_IMDb.head())\n",
    "print(f\"The number of rows of the movies IMDb dataset is {movies_IMDb.shape[0]}\")"
   ],
   "metadata": {
    "collapsed": false,
    "ExecuteTime": {
     "end_time": "2024-07-04T14:29:37.489263073Z",
     "start_time": "2024-07-04T14:29:35.976250436Z"
    }
   },
   "id": "dd6c643e52ff2723",
   "execution_count": 187
  },
  {
   "cell_type": "markdown",
   "source": [
    "Change the string writers to list of string writers and order the list"
   ],
   "metadata": {
    "collapsed": false
   },
   "id": "cd7462bbc420643d"
  },
  {
   "cell_type": "code",
   "outputs": [
    {
     "name": "stdout",
     "output_type": "stream",
     "text": [
      "      tconst                          title  year  \\\n",
      "0  tt0000009                     Miss Jerry  1894   \n",
      "1  tt0000147  The Corbett-Fitzsimmons Fight  1897   \n",
      "2  tt0000502                       Bohemios  1905   \n",
      "3  tt0000574    The Story of the Kelly Gang  1906   \n",
      "4  tt0000591               The Prodigal Son  1907   \n",
      "\n",
      "                           genres  averageRating  directors  \\\n",
      "0                       [Romance]            5.4  nm0085156   \n",
      "1      [Documentary, News, Sport]            5.2  nm0714557   \n",
      "2                              []            4.4  nm0063413   \n",
      "3  [Action, Adventure, Biography]            6.0  nm0846879   \n",
      "4                         [Drama]            5.6  nm0141150   \n",
      "\n",
      "                             writers  \n",
      "0                        [nm0085156]  \n",
      "1                                 []  \n",
      "2  [nm0063413, nm0657268, nm0675388]  \n",
      "3                        [nm0846879]  \n",
      "4                        [nm0141150]  \n"
     ]
    }
   ],
   "source": [
    "movies_IMDb['writers'] = movies_IMDb['writers'].str.split(',')\n",
    "movies_IMDb['writers'] = movies_IMDb['writers'].apply(lambda x: [] if x == ['\\\\N'] else x)\n",
    "print(movies_IMDb.head())"
   ],
   "metadata": {
    "collapsed": false,
    "ExecuteTime": {
     "end_time": "2024-07-04T14:29:38.823240585Z",
     "start_time": "2024-07-04T14:29:37.555224170Z"
    }
   },
   "id": "fa627157288fe750",
   "execution_count": 188
  },
  {
   "cell_type": "markdown",
   "source": [
    "Change the string directors to list of string directors and order the list"
   ],
   "metadata": {
    "collapsed": false
   },
   "id": "a7bf04e6165c0100"
  },
  {
   "cell_type": "code",
   "outputs": [
    {
     "name": "stdout",
     "output_type": "stream",
     "text": [
      "      tconst                          title  year  \\\n",
      "0  tt0000009                     Miss Jerry  1894   \n",
      "1  tt0000147  The Corbett-Fitzsimmons Fight  1897   \n",
      "2  tt0000502                       Bohemios  1905   \n",
      "3  tt0000574    The Story of the Kelly Gang  1906   \n",
      "4  tt0000591               The Prodigal Son  1907   \n",
      "\n",
      "                           genres  averageRating    directors  \\\n",
      "0                       [Romance]            5.4  [nm0085156]   \n",
      "1      [Documentary, News, Sport]            5.2  [nm0714557]   \n",
      "2                              []            4.4  [nm0063413]   \n",
      "3  [Action, Adventure, Biography]            6.0  [nm0846879]   \n",
      "4                         [Drama]            5.6  [nm0141150]   \n",
      "\n",
      "                             writers  \n",
      "0                        [nm0085156]  \n",
      "1                                 []  \n",
      "2  [nm0063413, nm0657268, nm0675388]  \n",
      "3                        [nm0846879]  \n",
      "4                        [nm0141150]  \n"
     ]
    }
   ],
   "source": [
    "movies_IMDb['directors'] = movies_IMDb['directors'].str.split(',')\n",
    "movies_IMDb['directors'] = movies_IMDb['directors'].apply(lambda x: [] if x == ['\\\\N'] else x)\n",
    "print(movies_IMDb.head())"
   ],
   "metadata": {
    "collapsed": false,
    "ExecuteTime": {
     "end_time": "2024-07-04T14:29:40.382146569Z",
     "start_time": "2024-07-04T14:29:38.887892043Z"
    }
   },
   "id": "2038bb83057076d1",
   "execution_count": 189
  },
  {
   "cell_type": "markdown",
   "source": [],
   "metadata": {
    "collapsed": false
   },
   "id": "576f1ec997e8ff0b"
  },
  {
   "cell_type": "code",
   "outputs": [
    {
     "name": "stdout",
     "output_type": "stream",
     "text": [
      "tconst            object\n",
      "title             object\n",
      "year               int64\n",
      "genres            object\n",
      "averageRating    float64\n",
      "directors         object\n",
      "writers           object\n",
      "dtype: object\n"
     ]
    }
   ],
   "source": [
    "movies_IMDb['year'] = pd.to_numeric(movies_IMDb['year'], errors='coerce').fillna(0).astype(int)\n",
    "print(movies_IMDb.dtypes)"
   ],
   "metadata": {
    "collapsed": false,
    "ExecuteTime": {
     "end_time": "2024-07-04T14:29:40.644340178Z",
     "start_time": "2024-07-04T14:29:40.634091805Z"
    }
   },
   "id": "2daa426993472c0d",
   "execution_count": 190
  },
  {
   "cell_type": "markdown",
   "source": [
    "### Merge datasets to include movie ratings, genres, and metadata"
   ],
   "metadata": {
    "collapsed": false
   },
   "id": "f94dc052aea02567"
  },
  {
   "cell_type": "code",
   "outputs": [],
   "source": [
    "merge_dataset = pd.merge(merge_MovieLens, movies_IMDb, on=['title', 'year'], how='inner')"
   ],
   "metadata": {
    "collapsed": false,
    "ExecuteTime": {
     "end_time": "2024-07-04T14:29:41.190923063Z",
     "start_time": "2024-07-04T14:29:40.643173080Z"
    }
   },
   "id": "8d0bb815fabd1a0b",
   "execution_count": 191
  },
  {
   "cell_type": "code",
   "outputs": [
    {
     "name": "stdout",
     "output_type": "stream",
     "text": [
      "The merge dataset:\n",
      "   userId  movieId  rating                            title genres_x  year  \\\n",
      "0       1     1193       5  One Flew Over the Cuckoo's Nest  [Drama]  1975   \n",
      "1       2     1193       5  One Flew Over the Cuckoo's Nest  [Drama]  1975   \n",
      "2      12     1193       4  One Flew Over the Cuckoo's Nest  [Drama]  1975   \n",
      "3      15     1193       4  One Flew Over the Cuckoo's Nest  [Drama]  1975   \n",
      "4      17     1193       5  One Flew Over the Cuckoo's Nest  [Drama]  1975   \n",
      "\n",
      "      tconst genres_y  averageRating    directors  \\\n",
      "0  tt0073486  [Drama]            8.7  [nm0001232]   \n",
      "1  tt0073486  [Drama]            8.7  [nm0001232]   \n",
      "2  tt0073486  [Drama]            8.7  [nm0001232]   \n",
      "3  tt0073486  [Drama]            8.7  [nm0001232]   \n",
      "4  tt0073486  [Drama]            8.7  [nm0001232]   \n",
      "\n",
      "                                        writers  \n",
      "0  [nm0369142, nm0325743, nm0450181, nm0913670]  \n",
      "1  [nm0369142, nm0325743, nm0450181, nm0913670]  \n",
      "2  [nm0369142, nm0325743, nm0450181, nm0913670]  \n",
      "3  [nm0369142, nm0325743, nm0450181, nm0913670]  \n",
      "4  [nm0369142, nm0325743, nm0450181, nm0913670]  \n",
      "The number of rows of the merge dataset is 695441\n"
     ]
    }
   ],
   "source": [
    "print(\"The merge dataset:\")\n",
    "print(merge_dataset.head())\n",
    "print(f\"The number of rows of the merge dataset is {merge_dataset.shape[0]}\")"
   ],
   "metadata": {
    "collapsed": false
   },
   "id": "5aef50ffad84d3b1",
   "execution_count": 192
  },
  {
   "cell_type": "markdown",
   "source": [
    "## Feature Engineering"
   ],
   "metadata": {
    "collapsed": false
   },
   "id": "445ed61be59dd492"
  },
  {
   "cell_type": "markdown",
   "source": [
    "### Combine genres from both datasets"
   ],
   "metadata": {
    "collapsed": false
   },
   "id": "583666bb12614cf6"
  },
  {
   "cell_type": "code",
   "outputs": [
    {
     "ename": "KeyError",
     "evalue": "'genres_x'",
     "output_type": "error",
     "traceback": [
      "\u001B[0;31m---------------------------------------------------------------------------\u001B[0m",
      "\u001B[0;31mKeyError\u001B[0m                                  Traceback (most recent call last)",
      "File \u001B[0;32m~/Desktop/EPITA/Ing2/Recommender/Recommender-Systems-Project-2024/.venv/lib/python3.8/site-packages/pandas/core/indexes/base.py:3653\u001B[0m, in \u001B[0;36mIndex.get_loc\u001B[0;34m(self, key)\u001B[0m\n\u001B[1;32m   3652\u001B[0m \u001B[38;5;28;01mtry\u001B[39;00m:\n\u001B[0;32m-> 3653\u001B[0m     \u001B[38;5;28;01mreturn\u001B[39;00m \u001B[38;5;28;43mself\u001B[39;49m\u001B[38;5;241;43m.\u001B[39;49m\u001B[43m_engine\u001B[49m\u001B[38;5;241;43m.\u001B[39;49m\u001B[43mget_loc\u001B[49m\u001B[43m(\u001B[49m\u001B[43mcasted_key\u001B[49m\u001B[43m)\u001B[49m\n\u001B[1;32m   3654\u001B[0m \u001B[38;5;28;01mexcept\u001B[39;00m \u001B[38;5;167;01mKeyError\u001B[39;00m \u001B[38;5;28;01mas\u001B[39;00m err:\n",
      "File \u001B[0;32m~/Desktop/EPITA/Ing2/Recommender/Recommender-Systems-Project-2024/.venv/lib/python3.8/site-packages/pandas/_libs/index.pyx:147\u001B[0m, in \u001B[0;36mpandas._libs.index.IndexEngine.get_loc\u001B[0;34m()\u001B[0m\n",
      "File \u001B[0;32m~/Desktop/EPITA/Ing2/Recommender/Recommender-Systems-Project-2024/.venv/lib/python3.8/site-packages/pandas/_libs/index.pyx:176\u001B[0m, in \u001B[0;36mpandas._libs.index.IndexEngine.get_loc\u001B[0;34m()\u001B[0m\n",
      "File \u001B[0;32mpandas/_libs/hashtable_class_helper.pxi:7080\u001B[0m, in \u001B[0;36mpandas._libs.hashtable.PyObjectHashTable.get_item\u001B[0;34m()\u001B[0m\n",
      "File \u001B[0;32mpandas/_libs/hashtable_class_helper.pxi:7088\u001B[0m, in \u001B[0;36mpandas._libs.hashtable.PyObjectHashTable.get_item\u001B[0;34m()\u001B[0m\n",
      "\u001B[0;31mKeyError\u001B[0m: 'genres_x'",
      "\nThe above exception was the direct cause of the following exception:\n",
      "\u001B[0;31mKeyError\u001B[0m                                  Traceback (most recent call last)",
      "Cell \u001B[0;32mIn[197], line 4\u001B[0m\n\u001B[1;32m      2\u001B[0m \u001B[38;5;28;01mdef\u001B[39;00m \u001B[38;5;21mcombine_genres\u001B[39m(genres_x, genres_y):\n\u001B[1;32m      3\u001B[0m     \u001B[38;5;28;01mreturn\u001B[39;00m \u001B[38;5;28mlist\u001B[39m(\u001B[38;5;28mset\u001B[39m(genres_x \u001B[38;5;241m+\u001B[39m genres_y))\n\u001B[0;32m----> 4\u001B[0m merge_dataset[\u001B[38;5;124m'\u001B[39m\u001B[38;5;124mgenres\u001B[39m\u001B[38;5;124m'\u001B[39m] \u001B[38;5;241m=\u001B[39m \u001B[43mmerge_dataset\u001B[49m\u001B[38;5;241;43m.\u001B[39;49m\u001B[43mapply\u001B[49m\u001B[43m(\u001B[49m\u001B[38;5;28;43;01mlambda\u001B[39;49;00m\u001B[43m \u001B[49m\u001B[43mrow\u001B[49m\u001B[43m:\u001B[49m\u001B[43m \u001B[49m\u001B[43mcombine_genres\u001B[49m\u001B[43m(\u001B[49m\u001B[43mrow\u001B[49m\u001B[43m[\u001B[49m\u001B[38;5;124;43m'\u001B[39;49m\u001B[38;5;124;43mgenres_x\u001B[39;49m\u001B[38;5;124;43m'\u001B[39;49m\u001B[43m]\u001B[49m\u001B[43m,\u001B[49m\u001B[43m \u001B[49m\u001B[43mrow\u001B[49m\u001B[43m[\u001B[49m\u001B[38;5;124;43m'\u001B[39;49m\u001B[38;5;124;43mgenres_y\u001B[39;49m\u001B[38;5;124;43m'\u001B[39;49m\u001B[43m]\u001B[49m\u001B[43m)\u001B[49m\u001B[43m,\u001B[49m\u001B[43m \u001B[49m\u001B[43maxis\u001B[49m\u001B[38;5;241;43m=\u001B[39;49m\u001B[38;5;241;43m1\u001B[39;49m\u001B[43m)\u001B[49m\n\u001B[1;32m      5\u001B[0m \u001B[38;5;66;03m# remove the genres_x and genres_y columns\u001B[39;00m\n\u001B[1;32m      6\u001B[0m merge_dataset\u001B[38;5;241m.\u001B[39mdrop([\u001B[38;5;124m'\u001B[39m\u001B[38;5;124mgenres_x\u001B[39m\u001B[38;5;124m'\u001B[39m, \u001B[38;5;124m'\u001B[39m\u001B[38;5;124mgenres_y\u001B[39m\u001B[38;5;124m'\u001B[39m], axis\u001B[38;5;241m=\u001B[39m\u001B[38;5;241m1\u001B[39m, inplace\u001B[38;5;241m=\u001B[39m\u001B[38;5;28;01mTrue\u001B[39;00m)\n",
      "File \u001B[0;32m~/Desktop/EPITA/Ing2/Recommender/Recommender-Systems-Project-2024/.venv/lib/python3.8/site-packages/pandas/core/frame.py:9423\u001B[0m, in \u001B[0;36mDataFrame.apply\u001B[0;34m(self, func, axis, raw, result_type, args, **kwargs)\u001B[0m\n\u001B[1;32m   9412\u001B[0m \u001B[38;5;28;01mfrom\u001B[39;00m \u001B[38;5;21;01mpandas\u001B[39;00m\u001B[38;5;21;01m.\u001B[39;00m\u001B[38;5;21;01mcore\u001B[39;00m\u001B[38;5;21;01m.\u001B[39;00m\u001B[38;5;21;01mapply\u001B[39;00m \u001B[38;5;28;01mimport\u001B[39;00m frame_apply\n\u001B[1;32m   9414\u001B[0m op \u001B[38;5;241m=\u001B[39m frame_apply(\n\u001B[1;32m   9415\u001B[0m     \u001B[38;5;28mself\u001B[39m,\n\u001B[1;32m   9416\u001B[0m     func\u001B[38;5;241m=\u001B[39mfunc,\n\u001B[0;32m   (...)\u001B[0m\n\u001B[1;32m   9421\u001B[0m     kwargs\u001B[38;5;241m=\u001B[39mkwargs,\n\u001B[1;32m   9422\u001B[0m )\n\u001B[0;32m-> 9423\u001B[0m \u001B[38;5;28;01mreturn\u001B[39;00m \u001B[43mop\u001B[49m\u001B[38;5;241;43m.\u001B[39;49m\u001B[43mapply\u001B[49m\u001B[43m(\u001B[49m\u001B[43m)\u001B[49m\u001B[38;5;241m.\u001B[39m__finalize__(\u001B[38;5;28mself\u001B[39m, method\u001B[38;5;241m=\u001B[39m\u001B[38;5;124m\"\u001B[39m\u001B[38;5;124mapply\u001B[39m\u001B[38;5;124m\"\u001B[39m)\n",
      "File \u001B[0;32m~/Desktop/EPITA/Ing2/Recommender/Recommender-Systems-Project-2024/.venv/lib/python3.8/site-packages/pandas/core/apply.py:678\u001B[0m, in \u001B[0;36mFrameApply.apply\u001B[0;34m(self)\u001B[0m\n\u001B[1;32m    675\u001B[0m \u001B[38;5;28;01melif\u001B[39;00m \u001B[38;5;28mself\u001B[39m\u001B[38;5;241m.\u001B[39mraw:\n\u001B[1;32m    676\u001B[0m     \u001B[38;5;28;01mreturn\u001B[39;00m \u001B[38;5;28mself\u001B[39m\u001B[38;5;241m.\u001B[39mapply_raw()\n\u001B[0;32m--> 678\u001B[0m \u001B[38;5;28;01mreturn\u001B[39;00m \u001B[38;5;28;43mself\u001B[39;49m\u001B[38;5;241;43m.\u001B[39;49m\u001B[43mapply_standard\u001B[49m\u001B[43m(\u001B[49m\u001B[43m)\u001B[49m\n",
      "File \u001B[0;32m~/Desktop/EPITA/Ing2/Recommender/Recommender-Systems-Project-2024/.venv/lib/python3.8/site-packages/pandas/core/apply.py:798\u001B[0m, in \u001B[0;36mFrameApply.apply_standard\u001B[0;34m(self)\u001B[0m\n\u001B[1;32m    797\u001B[0m \u001B[38;5;28;01mdef\u001B[39;00m \u001B[38;5;21mapply_standard\u001B[39m(\u001B[38;5;28mself\u001B[39m):\n\u001B[0;32m--> 798\u001B[0m     results, res_index \u001B[38;5;241m=\u001B[39m \u001B[38;5;28;43mself\u001B[39;49m\u001B[38;5;241;43m.\u001B[39;49m\u001B[43mapply_series_generator\u001B[49m\u001B[43m(\u001B[49m\u001B[43m)\u001B[49m\n\u001B[1;32m    800\u001B[0m     \u001B[38;5;66;03m# wrap results\u001B[39;00m\n\u001B[1;32m    801\u001B[0m     \u001B[38;5;28;01mreturn\u001B[39;00m \u001B[38;5;28mself\u001B[39m\u001B[38;5;241m.\u001B[39mwrap_results(results, res_index)\n",
      "File \u001B[0;32m~/Desktop/EPITA/Ing2/Recommender/Recommender-Systems-Project-2024/.venv/lib/python3.8/site-packages/pandas/core/apply.py:814\u001B[0m, in \u001B[0;36mFrameApply.apply_series_generator\u001B[0;34m(self)\u001B[0m\n\u001B[1;32m    811\u001B[0m \u001B[38;5;28;01mwith\u001B[39;00m option_context(\u001B[38;5;124m\"\u001B[39m\u001B[38;5;124mmode.chained_assignment\u001B[39m\u001B[38;5;124m\"\u001B[39m, \u001B[38;5;28;01mNone\u001B[39;00m):\n\u001B[1;32m    812\u001B[0m     \u001B[38;5;28;01mfor\u001B[39;00m i, v \u001B[38;5;129;01min\u001B[39;00m \u001B[38;5;28menumerate\u001B[39m(series_gen):\n\u001B[1;32m    813\u001B[0m         \u001B[38;5;66;03m# ignore SettingWithCopy here in case the user mutates\u001B[39;00m\n\u001B[0;32m--> 814\u001B[0m         results[i] \u001B[38;5;241m=\u001B[39m \u001B[38;5;28;43mself\u001B[39;49m\u001B[38;5;241;43m.\u001B[39;49m\u001B[43mf\u001B[49m\u001B[43m(\u001B[49m\u001B[43mv\u001B[49m\u001B[43m)\u001B[49m\n\u001B[1;32m    815\u001B[0m         \u001B[38;5;28;01mif\u001B[39;00m \u001B[38;5;28misinstance\u001B[39m(results[i], ABCSeries):\n\u001B[1;32m    816\u001B[0m             \u001B[38;5;66;03m# If we have a view on v, we need to make a copy because\u001B[39;00m\n\u001B[1;32m    817\u001B[0m             \u001B[38;5;66;03m#  series_generator will swap out the underlying data\u001B[39;00m\n\u001B[1;32m    818\u001B[0m             results[i] \u001B[38;5;241m=\u001B[39m results[i]\u001B[38;5;241m.\u001B[39mcopy(deep\u001B[38;5;241m=\u001B[39m\u001B[38;5;28;01mFalse\u001B[39;00m)\n",
      "Cell \u001B[0;32mIn[197], line 4\u001B[0m, in \u001B[0;36m<lambda>\u001B[0;34m(row)\u001B[0m\n\u001B[1;32m      2\u001B[0m \u001B[38;5;28;01mdef\u001B[39;00m \u001B[38;5;21mcombine_genres\u001B[39m(genres_x, genres_y):\n\u001B[1;32m      3\u001B[0m     \u001B[38;5;28;01mreturn\u001B[39;00m \u001B[38;5;28mlist\u001B[39m(\u001B[38;5;28mset\u001B[39m(genres_x \u001B[38;5;241m+\u001B[39m genres_y))\n\u001B[0;32m----> 4\u001B[0m merge_dataset[\u001B[38;5;124m'\u001B[39m\u001B[38;5;124mgenres\u001B[39m\u001B[38;5;124m'\u001B[39m] \u001B[38;5;241m=\u001B[39m merge_dataset\u001B[38;5;241m.\u001B[39mapply(\u001B[38;5;28;01mlambda\u001B[39;00m row: combine_genres(\u001B[43mrow\u001B[49m\u001B[43m[\u001B[49m\u001B[38;5;124;43m'\u001B[39;49m\u001B[38;5;124;43mgenres_x\u001B[39;49m\u001B[38;5;124;43m'\u001B[39;49m\u001B[43m]\u001B[49m, row[\u001B[38;5;124m'\u001B[39m\u001B[38;5;124mgenres_y\u001B[39m\u001B[38;5;124m'\u001B[39m]), axis\u001B[38;5;241m=\u001B[39m\u001B[38;5;241m1\u001B[39m)\n\u001B[1;32m      5\u001B[0m \u001B[38;5;66;03m# remove the genres_x and genres_y columns\u001B[39;00m\n\u001B[1;32m      6\u001B[0m merge_dataset\u001B[38;5;241m.\u001B[39mdrop([\u001B[38;5;124m'\u001B[39m\u001B[38;5;124mgenres_x\u001B[39m\u001B[38;5;124m'\u001B[39m, \u001B[38;5;124m'\u001B[39m\u001B[38;5;124mgenres_y\u001B[39m\u001B[38;5;124m'\u001B[39m], axis\u001B[38;5;241m=\u001B[39m\u001B[38;5;241m1\u001B[39m, inplace\u001B[38;5;241m=\u001B[39m\u001B[38;5;28;01mTrue\u001B[39;00m)\n",
      "File \u001B[0;32m~/Desktop/EPITA/Ing2/Recommender/Recommender-Systems-Project-2024/.venv/lib/python3.8/site-packages/pandas/core/series.py:1007\u001B[0m, in \u001B[0;36mSeries.__getitem__\u001B[0;34m(self, key)\u001B[0m\n\u001B[1;32m   1004\u001B[0m     \u001B[38;5;28;01mreturn\u001B[39;00m \u001B[38;5;28mself\u001B[39m\u001B[38;5;241m.\u001B[39m_values[key]\n\u001B[1;32m   1006\u001B[0m \u001B[38;5;28;01melif\u001B[39;00m key_is_scalar:\n\u001B[0;32m-> 1007\u001B[0m     \u001B[38;5;28;01mreturn\u001B[39;00m \u001B[38;5;28;43mself\u001B[39;49m\u001B[38;5;241;43m.\u001B[39;49m\u001B[43m_get_value\u001B[49m\u001B[43m(\u001B[49m\u001B[43mkey\u001B[49m\u001B[43m)\u001B[49m\n\u001B[1;32m   1009\u001B[0m \u001B[38;5;28;01mif\u001B[39;00m is_hashable(key):\n\u001B[1;32m   1010\u001B[0m     \u001B[38;5;66;03m# Otherwise index.get_value will raise InvalidIndexError\u001B[39;00m\n\u001B[1;32m   1011\u001B[0m     \u001B[38;5;28;01mtry\u001B[39;00m:\n\u001B[1;32m   1012\u001B[0m         \u001B[38;5;66;03m# For labels that don't resolve as scalars like tuples and frozensets\u001B[39;00m\n",
      "File \u001B[0;32m~/Desktop/EPITA/Ing2/Recommender/Recommender-Systems-Project-2024/.venv/lib/python3.8/site-packages/pandas/core/series.py:1116\u001B[0m, in \u001B[0;36mSeries._get_value\u001B[0;34m(self, label, takeable)\u001B[0m\n\u001B[1;32m   1113\u001B[0m     \u001B[38;5;28;01mreturn\u001B[39;00m \u001B[38;5;28mself\u001B[39m\u001B[38;5;241m.\u001B[39m_values[label]\n\u001B[1;32m   1115\u001B[0m \u001B[38;5;66;03m# Similar to Index.get_value, but we do not fall back to positional\u001B[39;00m\n\u001B[0;32m-> 1116\u001B[0m loc \u001B[38;5;241m=\u001B[39m \u001B[38;5;28;43mself\u001B[39;49m\u001B[38;5;241;43m.\u001B[39;49m\u001B[43mindex\u001B[49m\u001B[38;5;241;43m.\u001B[39;49m\u001B[43mget_loc\u001B[49m\u001B[43m(\u001B[49m\u001B[43mlabel\u001B[49m\u001B[43m)\u001B[49m\n\u001B[1;32m   1118\u001B[0m \u001B[38;5;28;01mif\u001B[39;00m is_integer(loc):\n\u001B[1;32m   1119\u001B[0m     \u001B[38;5;28;01mreturn\u001B[39;00m \u001B[38;5;28mself\u001B[39m\u001B[38;5;241m.\u001B[39m_values[loc]\n",
      "File \u001B[0;32m~/Desktop/EPITA/Ing2/Recommender/Recommender-Systems-Project-2024/.venv/lib/python3.8/site-packages/pandas/core/indexes/base.py:3655\u001B[0m, in \u001B[0;36mIndex.get_loc\u001B[0;34m(self, key)\u001B[0m\n\u001B[1;32m   3653\u001B[0m     \u001B[38;5;28;01mreturn\u001B[39;00m \u001B[38;5;28mself\u001B[39m\u001B[38;5;241m.\u001B[39m_engine\u001B[38;5;241m.\u001B[39mget_loc(casted_key)\n\u001B[1;32m   3654\u001B[0m \u001B[38;5;28;01mexcept\u001B[39;00m \u001B[38;5;167;01mKeyError\u001B[39;00m \u001B[38;5;28;01mas\u001B[39;00m err:\n\u001B[0;32m-> 3655\u001B[0m     \u001B[38;5;28;01mraise\u001B[39;00m \u001B[38;5;167;01mKeyError\u001B[39;00m(key) \u001B[38;5;28;01mfrom\u001B[39;00m \u001B[38;5;21;01merr\u001B[39;00m\n\u001B[1;32m   3656\u001B[0m \u001B[38;5;28;01mexcept\u001B[39;00m \u001B[38;5;167;01mTypeError\u001B[39;00m:\n\u001B[1;32m   3657\u001B[0m     \u001B[38;5;66;03m# If we have a listlike key, _check_indexing_error will raise\u001B[39;00m\n\u001B[1;32m   3658\u001B[0m     \u001B[38;5;66;03m#  InvalidIndexError. Otherwise we fall through and re-raise\u001B[39;00m\n\u001B[1;32m   3659\u001B[0m     \u001B[38;5;66;03m#  the TypeError.\u001B[39;00m\n\u001B[1;32m   3660\u001B[0m     \u001B[38;5;28mself\u001B[39m\u001B[38;5;241m.\u001B[39m_check_indexing_error(key)\n",
      "\u001B[0;31mKeyError\u001B[0m: 'genres_x'"
     ]
    }
   ],
   "source": [
    "# combine the genres columns\n",
    "def combine_genres(genres_x, genres_y):\n",
    "    return list(set(genres_x + genres_y))\n",
    "merge_dataset['genres'] = merge_dataset.apply(lambda row: combine_genres(row['genres_x'], row['genres_y']), axis=1)\n",
    "# remove the genres_x and genres_y columns\n",
    "merge_dataset.drop(['genres_x', 'genres_y'], axis=1, inplace=True)\n",
    "print(merge_dataset.head())\n",
    "print(f\"The number of rows of the merge dataset is {merge_dataset.shape[0]}\")"
   ],
   "metadata": {
    "collapsed": false,
    "ExecuteTime": {
     "end_time": "2024-07-04T14:31:23.590448191Z",
     "start_time": "2024-07-04T14:31:23.120455150Z"
    }
   },
   "id": "b0665f6657da6e62",
   "execution_count": 197
  },
  {
   "cell_type": "markdown",
   "source": [
    "### Convert the rating column to float"
   ],
   "metadata": {
    "collapsed": false
   },
   "id": "26b1463235cd162f"
  },
  {
   "cell_type": "code",
   "outputs": [
    {
     "name": "stdout",
     "output_type": "stream",
     "text": [
      "userId             int64\n",
      "movieId            int64\n",
      "rating           float64\n",
      "title             object\n",
      "year               int64\n",
      "tconst            object\n",
      "averageRating    float64\n",
      "directors         object\n",
      "writers           object\n",
      "genres            object\n",
      "dtype: object\n"
     ]
    }
   ],
   "source": [
    "merge_dataset['rating'] = merge_dataset['rating'].astype(float)\n",
    "print(merge_dataset.dtypes)"
   ],
   "metadata": {
    "collapsed": false,
    "ExecuteTime": {
     "end_time": "2024-07-04T14:31:30.461294460Z",
     "start_time": "2024-07-04T14:31:30.437190159Z"
    }
   },
   "id": "807df25f70242e4e",
   "execution_count": 198
  },
  {
   "cell_type": "markdown",
   "source": [
    "### Create a user-item interaction matrix for collaborative filtering"
   ],
   "metadata": {
    "collapsed": false
   },
   "id": "8e6f4df4775964ab"
  },
  {
   "cell_type": "code",
   "outputs": [
    {
     "name": "stdout",
     "output_type": "stream",
     "text": [
      "movieId  1     2     3     4     5     6     7     8     9     10    ...  \\\n",
      "userId                                                               ...   \n",
      "1         5.0   NaN   NaN   NaN   NaN   NaN   NaN   NaN   NaN   NaN  ...   \n",
      "2         NaN   NaN   NaN   NaN   NaN   NaN   NaN   NaN   NaN   NaN  ...   \n",
      "3         NaN   NaN   NaN   NaN   NaN   NaN   NaN   NaN   NaN   NaN  ...   \n",
      "4         NaN   NaN   NaN   NaN   NaN   NaN   NaN   NaN   NaN   NaN  ...   \n",
      "5         NaN   NaN   NaN   NaN   NaN   2.0   NaN   NaN   NaN   NaN  ...   \n",
      "\n",
      "movieId  3942  3943  3944  3945  3946  3947  3948  3949  3950  3951  \n",
      "userId                                                               \n",
      "1         NaN   NaN   NaN   NaN   NaN   NaN   NaN   NaN   NaN   NaN  \n",
      "2         NaN   NaN   NaN   NaN   NaN   NaN   NaN   NaN   NaN   NaN  \n",
      "3         NaN   NaN   NaN   NaN   NaN   NaN   NaN   NaN   NaN   NaN  \n",
      "4         NaN   NaN   NaN   NaN   NaN   NaN   NaN   NaN   NaN   NaN  \n",
      "5         NaN   NaN   NaN   NaN   NaN   NaN   NaN   NaN   NaN   NaN  \n",
      "\n",
      "[5 rows x 2299 columns]\n"
     ]
    }
   ],
   "source": [
    "user_item_matrix = merge_dataset.pivot_table(index='userId', columns='movieId', values='rating')\n",
    "print(user_item_matrix.head())"
   ],
   "metadata": {
    "collapsed": false,
    "ExecuteTime": {
     "end_time": "2024-07-04T14:36:21.766206279Z",
     "start_time": "2024-07-04T14:36:21.288700499Z"
    }
   },
   "id": "364ee22719f6a296",
   "execution_count": 199
  },
  {
   "cell_type": "markdown",
   "source": [
    "### Understand how to combine user data to get data for the couple of users"
   ],
   "metadata": {
    "collapsed": false
   },
   "id": "9d3fa1d0cf030cee"
  },
  {
   "cell_type": "code",
   "outputs": [
    {
     "name": "stdout",
     "output_type": "stream",
     "text": [
      "movieId\n",
      "1       5.0\n",
      "2       NaN\n",
      "3       NaN\n",
      "4       NaN\n",
      "5       NaN\n",
      "       ... \n",
      "3947    NaN\n",
      "3948    NaN\n",
      "3949    NaN\n",
      "3950    NaN\n",
      "3951    NaN\n",
      "Name: 1, Length: 2299, dtype: float64\n",
      "movieId\n",
      "1      NaN\n",
      "2      NaN\n",
      "3      NaN\n",
      "4      NaN\n",
      "5      NaN\n",
      "        ..\n",
      "3947   NaN\n",
      "3948   NaN\n",
      "3949   NaN\n",
      "3950   NaN\n",
      "3951   NaN\n",
      "Name: 2, Length: 2299, dtype: float64\n"
     ]
    }
   ],
   "source": [],
   "metadata": {
    "collapsed": false,
    "ExecuteTime": {
     "end_time": "2024-07-04T14:38:22.196690666Z",
     "start_time": "2024-07-04T14:38:22.155024742Z"
    }
   },
   "id": "ae9393f0f8e93a59",
   "execution_count": 200
  },
  {
   "cell_type": "markdown",
   "source": [
    "## Model Development"
   ],
   "metadata": {
    "collapsed": false
   },
   "id": "445774c254dfa1ff"
  },
  {
   "cell_type": "markdown",
   "source": [
    "### Implement a recommender system algotithm to predict the rating of a movie by a couple of users"
   ],
   "metadata": {
    "collapsed": false
   },
   "id": "4553c2942605370c"
  },
  {
   "cell_type": "markdown",
   "source": [
    "## Recommendation Algorithm"
   ],
   "metadata": {
    "collapsed": false
   },
   "id": "ce7c3e7acb65a58d"
  },
  {
   "cell_type": "markdown",
   "source": [
    "### Develop an algorithm to suggest one movie that might be likes by the couple of users"
   ],
   "metadata": {
    "collapsed": false
   },
   "id": "8be36ceade250e57"
  },
  {
   "cell_type": "markdown",
   "source": [
    "## Evalution"
   ],
   "metadata": {
    "collapsed": false
   },
   "id": "50f31950a0dffccd"
  },
  {
   "cell_type": "markdown",
   "source": [
    "### Slit the data into training and testing sets"
   ],
   "metadata": {
    "collapsed": false
   },
   "id": "a77cb7697e48f9c6"
  },
  {
   "cell_type": "markdown",
   "source": [
    "### Evaluate the model"
   ],
   "metadata": {
    "collapsed": false
   },
   "id": "b47ce0ab3ef034be"
  }
 ],
 "metadata": {
  "kernelspec": {
   "display_name": "Python 3",
   "language": "python",
   "name": "python3"
  },
  "language_info": {
   "codemirror_mode": {
    "name": "ipython",
    "version": 2
   },
   "file_extension": ".py",
   "mimetype": "text/x-python",
   "name": "python",
   "nbconvert_exporter": "python",
   "pygments_lexer": "ipython2",
   "version": "2.7.6"
  }
 },
 "nbformat": 4,
 "nbformat_minor": 5
}
