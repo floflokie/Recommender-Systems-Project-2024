{
 "cells": [
  {
   "cell_type": "markdown",
   "source": [
    "# Project: Movie Paring Recommender System"
   ],
   "metadata": {
    "collapsed": false
   },
   "id": "f709eba9fa6daca5"
  },
  {
   "cell_type": "markdown",
   "source": [
    "## Data Collection and Preprocessing"
   ],
   "metadata": {
    "collapsed": false
   },
   "id": "7cbdafd2ab97e5df"
  },
  {
   "cell_type": "markdown",
   "source": [
    "### Downloading the MovieLens and IMDb datasets"
   ],
   "metadata": {
    "collapsed": false
   },
   "id": "a88a780a684f1178"
  },
  {
   "cell_type": "markdown",
   "source": [
    "### Merge datasets to include movie ratings, genres, and metadata"
   ],
   "metadata": {
    "collapsed": false
   },
   "id": "f94dc052aea02567"
  },
  {
   "cell_type": "markdown",
   "source": [
    "## Feature Engineering"
   ],
   "metadata": {
    "collapsed": false
   },
   "id": "445ed61be59dd492"
  },
  {
   "cell_type": "markdown",
   "source": [
    "### Extract relevant features "
   ],
   "metadata": {
    "collapsed": false
   },
   "id": "79c78d7ef33eb606"
  },
  {
   "cell_type": "markdown",
   "source": [
    "### Create a user-item interaction matrix for collaborative filtering"
   ],
   "metadata": {
    "collapsed": false
   },
   "id": "8e6f4df4775964ab"
  },
  {
   "cell_type": "markdown",
   "source": [
    "### Understand how to combine user data to get data for the couple of users"
   ],
   "metadata": {
    "collapsed": false
   },
   "id": "9d3fa1d0cf030cee"
  },
  {
   "cell_type": "markdown",
   "source": [
    "## Model Development"
   ],
   "metadata": {
    "collapsed": false
   },
   "id": "445774c254dfa1ff"
  },
  {
   "cell_type": "markdown",
   "source": [
    "### Implement a recommender system algotithm to predict the rating of a movie by a couple of users"
   ],
   "metadata": {
    "collapsed": false
   },
   "id": "4553c2942605370c"
  },
  {
   "cell_type": "markdown",
   "source": [
    "## Recommendation Algorithm"
   ],
   "metadata": {
    "collapsed": false
   },
   "id": "ce7c3e7acb65a58d"
  },
  {
   "cell_type": "markdown",
   "source": [
    "### Develop an algorithm to suggest one movie that might be likes by the couple of users"
   ],
   "metadata": {
    "collapsed": false
   },
   "id": "8be36ceade250e57"
  },
  {
   "cell_type": "markdown",
   "source": [
    "## Evalution"
   ],
   "metadata": {
    "collapsed": false
   },
   "id": "50f31950a0dffccd"
  },
  {
   "cell_type": "markdown",
   "source": [
    "### Slit the data into training and testing sets"
   ],
   "metadata": {
    "collapsed": false
   },
   "id": "a77cb7697e48f9c6"
  },
  {
   "cell_type": "markdown",
   "source": [
    "### Evaluate the model"
   ],
   "metadata": {
    "collapsed": false
   },
   "id": "b47ce0ab3ef034be"
  }
 ],
 "metadata": {
  "kernelspec": {
   "display_name": "Python 3",
   "language": "python",
   "name": "python3"
  },
  "language_info": {
   "codemirror_mode": {
    "name": "ipython",
    "version": 2
   },
   "file_extension": ".py",
   "mimetype": "text/x-python",
   "name": "python",
   "nbconvert_exporter": "python",
   "pygments_lexer": "ipython2",
   "version": "2.7.6"
  }
 },
 "nbformat": 4,
 "nbformat_minor": 5
}
