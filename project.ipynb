{
  "cells": [
    {
      "cell_type": "markdown",
      "source": [
        "# Project: Movie Paring Recommender System"
      ],
      "metadata": {
        "collapsed": false,
        "id": "f709eba9fa6daca5"
      },
      "id": "f709eba9fa6daca5"
    },
    {
      "cell_type": "markdown",
      "source": [
        "## Data Collection and Preprocessing"
      ],
      "metadata": {
        "collapsed": false,
        "id": "7cbdafd2ab97e5df"
      },
      "id": "7cbdafd2ab97e5df"
    },
    {
      "cell_type": "markdown",
      "source": [
        "### Downloading the MovieLens and IMDb datasets"
      ],
      "metadata": {
        "collapsed": false,
        "id": "a88a780a684f1178"
      },
      "id": "a88a780a684f1178"
    },
    {
      "cell_type": "code",
      "outputs": [],
      "source": [
        "import pandas as pd\n",
        "import os\n",
        "import re"
      ],
      "metadata": {
        "ExecuteTime": {
          "end_time": "2024-07-07T12:11:32.194317642Z",
          "start_time": "2024-07-07T12:11:29.035597157Z"
        },
        "id": "808d92bbb24ebad0"
      },
      "id": "808d92bbb24ebad0",
      "execution_count": 1
    },
    {
      "cell_type": "markdown",
      "source": [
        "#### Download the MovieLens dataset and merge them"
      ],
      "metadata": {
        "collapsed": false,
        "id": "8c60aa0f70dc47f"
      },
      "id": "8c60aa0f70dc47f"
    },
    {
      "cell_type": "code",
      "outputs": [
        {
          "output_type": "stream",
          "name": "stdout",
          "text": [
            "--2024-07-07 15:07:50--  http://files.grouplens.org/datasets/movielens/ml-1m.zip\n",
            "Resolving files.grouplens.org (files.grouplens.org)... 128.101.65.152\n",
            "Connecting to files.grouplens.org (files.grouplens.org)|128.101.65.152|:80... connected.\n",
            "HTTP request sent, awaiting response... 200 OK\n",
            "Length: 5917549 (5.6M) [application/zip]\n",
            "Saving to: ‘ml-1m.zip’\n",
            "\n",
            "ml-1m.zip           100%[===================>]   5.64M  12.0MB/s    in 0.5s    \n",
            "\n",
            "2024-07-07 15:07:50 (12.0 MB/s) - ‘ml-1m.zip’ saved [5917549/5917549]\n",
            "\n",
            "Archive:  ml-1m.zip\n",
            "   creating: ml-1m/\n",
            "  inflating: ml-1m/movies.dat        \n",
            "  inflating: ml-1m/ratings.dat       \n",
            "  inflating: ml-1m/README            \n",
            "  inflating: ml-1m/users.dat         \n"
          ]
        }
      ],
      "source": [
        "if not os.path.exists('ml-1m'):\n",
        "    !wget http://files.grouplens.org/datasets/movielens/ml-1m.zip\n",
        "    !unzip ml-1m.zip\n",
        "    !rm ml-1m.zip"
      ],
      "metadata": {
        "ExecuteTime": {
          "end_time": "2024-07-07T12:11:32.391593714Z",
          "start_time": "2024-07-07T12:11:32.080724485Z"
        },
        "colab": {
          "base_uri": "https://localhost:8080/"
        },
        "id": "4b8a3de03b7dce44",
        "outputId": "915443d0-c9c7-4f3d-87e7-5b747e7230b8"
      },
      "id": "4b8a3de03b7dce44",
      "execution_count": 2
    },
    {
      "cell_type": "code",
      "outputs": [
        {
          "output_type": "stream",
          "name": "stdout",
          "text": [
            "The movies MovieLens dataset:\n",
            "   movieId                               title                        genres\n",
            "0        1                    Toy Story (1995)   Animation|Children's|Comedy\n",
            "1        2                      Jumanji (1995)  Adventure|Children's|Fantasy\n",
            "2        3             Grumpier Old Men (1995)                Comedy|Romance\n",
            "3        4            Waiting to Exhale (1995)                  Comedy|Drama\n",
            "4        5  Father of the Bride Part II (1995)                        Comedy\n",
            "The number of rows of the movies Movielens dataset is 3883\n",
            "The ratings MovieLens dataset:\n",
            "   userId  movieId  rating  timestamp\n",
            "0       1     1193       5  978300760\n",
            "1       1      661       3  978302109\n",
            "2       1      914       3  978301968\n",
            "3       1     3408       4  978300275\n",
            "4       1     2355       5  978824291\n",
            "The number of rows of the ratings Movielens dataset is 1000209\n"
          ]
        }
      ],
      "source": [
        "movies_MovieLens = pd.read_csv('ml-1m/movies.dat', sep='::', engine='python', header=None, names=['movieId', 'title', 'genres'], encoding='ISO-8859-1')\n",
        "ratings_MovieLens = pd.read_csv('ml-1m/ratings.dat', sep='::', engine='python', header=None, names=['userId', 'movieId', 'rating', 'timestamp'], encoding='ISO-8859-1')\n",
        "print(\"The movies MovieLens dataset:\")\n",
        "print(movies_MovieLens.head())\n",
        "print(f\"The number of rows of the movies Movielens dataset is {movies_MovieLens.shape[0]}\")\n",
        "print(\"The ratings MovieLens dataset:\")\n",
        "print(ratings_MovieLens.head())\n",
        "print(f\"The number of rows of the ratings Movielens dataset is {ratings_MovieLens.shape[0]}\")"
      ],
      "metadata": {
        "ExecuteTime": {
          "end_time": "2024-07-07T12:11:50.678658841Z",
          "start_time": "2024-07-07T12:11:32.390901969Z"
        },
        "colab": {
          "base_uri": "https://localhost:8080/"
        },
        "id": "37ec6adbfbb89d1a",
        "outputId": "2b963bda-552e-42d3-f184-271527ac2e7e"
      },
      "id": "37ec6adbfbb89d1a",
      "execution_count": 3
    },
    {
      "cell_type": "markdown",
      "source": [
        "Merge the ratings and movies MovieLens datasets on the column movieId"
      ],
      "metadata": {
        "collapsed": false,
        "id": "35145ac6962aa077"
      },
      "id": "35145ac6962aa077"
    },
    {
      "cell_type": "code",
      "outputs": [
        {
          "output_type": "stream",
          "name": "stdout",
          "text": [
            "The merge MovieLens dataset:\n",
            "   userId  movieId  rating  timestamp                                   title  \\\n",
            "0       1     1193       5  978300760  One Flew Over the Cuckoo's Nest (1975)   \n",
            "1       2     1193       5  978298413  One Flew Over the Cuckoo's Nest (1975)   \n",
            "2      12     1193       4  978220179  One Flew Over the Cuckoo's Nest (1975)   \n",
            "3      15     1193       4  978199279  One Flew Over the Cuckoo's Nest (1975)   \n",
            "4      17     1193       5  978158471  One Flew Over the Cuckoo's Nest (1975)   \n",
            "\n",
            "  genres  \n",
            "0  Drama  \n",
            "1  Drama  \n",
            "2  Drama  \n",
            "3  Drama  \n",
            "4  Drama  \n",
            "The number of rows of the merge Movielens dataset is 1000209\n"
          ]
        }
      ],
      "source": [
        "merge_MovieLens = pd.merge(ratings_MovieLens, movies_MovieLens, on='movieId')\n",
        "print(\"The merge MovieLens dataset:\")\n",
        "print(merge_MovieLens.head())\n",
        "print(f\"The number of rows of the merge Movielens dataset is {merge_MovieLens.shape[0]}\")"
      ],
      "metadata": {
        "ExecuteTime": {
          "end_time": "2024-07-07T12:11:51.135934889Z",
          "start_time": "2024-07-07T12:11:50.678571180Z"
        },
        "colab": {
          "base_uri": "https://localhost:8080/"
        },
        "id": "6505227fd7504e06",
        "outputId": "d6fb3f44-c337-4f17-f97e-2a2aaa4405ec"
      },
      "id": "6505227fd7504e06",
      "execution_count": 4
    },
    {
      "cell_type": "markdown",
      "source": [
        "Delete the ratings and movies MovieLens datasets to make some memory space"
      ],
      "metadata": {
        "collapsed": false,
        "id": "fe96471001cde865"
      },
      "id": "fe96471001cde865"
    },
    {
      "cell_type": "code",
      "outputs": [],
      "source": [
        "del movies_MovieLens\n",
        "del ratings_MovieLens"
      ],
      "metadata": {
        "ExecuteTime": {
          "end_time": "2024-07-07T12:11:51.167811612Z",
          "start_time": "2024-07-07T12:11:51.017292828Z"
        },
        "id": "73d99ad6e6d78ebf"
      },
      "id": "73d99ad6e6d78ebf",
      "execution_count": 5
    },
    {
      "cell_type": "markdown",
      "source": [
        "Extract the year from the title column and remove it from the title column and create a year column"
      ],
      "metadata": {
        "collapsed": false,
        "id": "568c01e1ef4e09ef"
      },
      "id": "568c01e1ef4e09ef"
    },
    {
      "cell_type": "code",
      "outputs": [
        {
          "output_type": "stream",
          "name": "stdout",
          "text": [
            "The merge MovieLens dataset with the column year:\n",
            "   userId  movieId  rating  timestamp                            title genres  \\\n",
            "0       1     1193       5  978300760  One Flew Over the Cuckoo's Nest  Drama   \n",
            "1       2     1193       5  978298413  One Flew Over the Cuckoo's Nest  Drama   \n",
            "2      12     1193       4  978220179  One Flew Over the Cuckoo's Nest  Drama   \n",
            "3      15     1193       4  978199279  One Flew Over the Cuckoo's Nest  Drama   \n",
            "4      17     1193       5  978158471  One Flew Over the Cuckoo's Nest  Drama   \n",
            "\n",
            "   year  \n",
            "0  1975  \n",
            "1  1975  \n",
            "2  1975  \n",
            "3  1975  \n",
            "4  1975  \n",
            "The number of rows of the merge Movielens dataset is 1000209\n"
          ]
        }
      ],
      "source": [
        "year_regex = re.compile(r'\\((\\d{4})\\)')\n",
        "merge_MovieLens['year'] = merge_MovieLens['title'].str.extract(r'\\((\\d{4})\\)').astype(int)\n",
        "merge_MovieLens['title'] = merge_MovieLens['title'].apply(lambda x: year_regex.sub(\"\", x).strip())\n",
        "print(\"The merge MovieLens dataset with the column year:\")\n",
        "print(merge_MovieLens.head())\n",
        "print(f\"The number of rows of the merge Movielens dataset is {merge_MovieLens.shape[0]}\")"
      ],
      "metadata": {
        "ExecuteTime": {
          "end_time": "2024-07-07T12:11:59.861558788Z",
          "start_time": "2024-07-07T12:11:51.092991250Z"
        },
        "colab": {
          "base_uri": "https://localhost:8080/"
        },
        "id": "9b3745eb2ee95565",
        "outputId": "0791d458-5383-45e5-82ec-e7c4ff45a21b"
      },
      "id": "9b3745eb2ee95565",
      "execution_count": 6
    },
    {
      "cell_type": "markdown",
      "source": [
        "##### Feature Engineering"
      ],
      "metadata": {
        "collapsed": false,
        "id": "71abed4aa3649336"
      },
      "id": "71abed4aa3649336"
    },
    {
      "cell_type": "markdown",
      "source": [
        "Remove the timestamp of the review column"
      ],
      "metadata": {
        "collapsed": false,
        "id": "343831edbf55adff"
      },
      "id": "343831edbf55adff"
    },
    {
      "cell_type": "code",
      "outputs": [
        {
          "output_type": "stream",
          "name": "stdout",
          "text": [
            "The merge MovieLens dataset without the column timestamp:\n",
            "   userId  movieId  rating                            title genres  year\n",
            "0       1     1193       5  One Flew Over the Cuckoo's Nest  Drama  1975\n",
            "1       2     1193       5  One Flew Over the Cuckoo's Nest  Drama  1975\n",
            "2      12     1193       4  One Flew Over the Cuckoo's Nest  Drama  1975\n",
            "3      15     1193       4  One Flew Over the Cuckoo's Nest  Drama  1975\n",
            "4      17     1193       5  One Flew Over the Cuckoo's Nest  Drama  1975\n",
            "The number of rows of the merge Movielens dataset is 1000209\n"
          ]
        }
      ],
      "source": [
        "merge_MovieLens.drop('timestamp', axis=1, inplace=True)\n",
        "print(\"The merge MovieLens dataset without the column timestamp:\")\n",
        "print(merge_MovieLens.head())\n",
        "print(f\"The number of rows of the merge Movielens dataset is {merge_MovieLens.shape[0]}\")"
      ],
      "metadata": {
        "ExecuteTime": {
          "end_time": "2024-07-07T12:11:59.924220559Z",
          "start_time": "2024-07-07T12:11:59.710157524Z"
        },
        "colab": {
          "base_uri": "https://localhost:8080/"
        },
        "id": "72c6ce25f02a456e",
        "outputId": "bb4a515d-22a1-4129-a9fe-d51091a58dde"
      },
      "id": "72c6ce25f02a456e",
      "execution_count": 7
    },
    {
      "cell_type": "markdown",
      "source": [
        "Change the genres from string to list of string and order the list"
      ],
      "metadata": {
        "collapsed": false,
        "id": "1e9ef72fda5ed5b7"
      },
      "id": "1e9ef72fda5ed5b7"
    },
    {
      "cell_type": "code",
      "outputs": [
        {
          "output_type": "stream",
          "name": "stdout",
          "text": [
            "   userId  movieId  rating                            title   genres  year\n",
            "0       1     1193       5  One Flew Over the Cuckoo's Nest  [Drama]  1975\n",
            "1       2     1193       5  One Flew Over the Cuckoo's Nest  [Drama]  1975\n",
            "2      12     1193       4  One Flew Over the Cuckoo's Nest  [Drama]  1975\n",
            "3      15     1193       4  One Flew Over the Cuckoo's Nest  [Drama]  1975\n",
            "4      17     1193       5  One Flew Over the Cuckoo's Nest  [Drama]  1975\n"
          ]
        }
      ],
      "source": [
        "merge_MovieLens['genres'] = merge_MovieLens['genres'].str.split('|')\n",
        "merge_MovieLens['genres'] = merge_MovieLens['genres'].apply(lambda x: sorted(x))\n",
        "print(merge_MovieLens.head())"
      ],
      "metadata": {
        "ExecuteTime": {
          "end_time": "2024-07-07T12:12:05.955327748Z",
          "start_time": "2024-07-07T12:11:59.804602589Z"
        },
        "colab": {
          "base_uri": "https://localhost:8080/"
        },
        "id": "ddba6cee5f44cd21",
        "outputId": "670fa492-06e9-4278-aedc-ff402eb9d9b5"
      },
      "id": "ddba6cee5f44cd21",
      "execution_count": 8
    },
    {
      "cell_type": "markdown",
      "source": [
        "#### Download the IMDb datasets and merge them"
      ],
      "metadata": {
        "collapsed": false,
        "id": "be11884705e9518c"
      },
      "id": "be11884705e9518c"
    },
    {
      "cell_type": "code",
      "outputs": [
        {
          "output_type": "stream",
          "name": "stdout",
          "text": [
            "--2024-07-07 15:08:25--  https://datasets.imdbws.com/title.basics.tsv.gz\n",
            "Resolving datasets.imdbws.com (datasets.imdbws.com)... 13.224.14.12, 13.224.14.33, 13.224.14.11, ...\n",
            "Connecting to datasets.imdbws.com (datasets.imdbws.com)|13.224.14.12|:443... connected.\n",
            "HTTP request sent, awaiting response... 200 OK\n",
            "Length: 191394068 (183M) [binary/octet-stream]\n",
            "Saving to: ‘title.basics.tsv.gz’\n",
            "\n",
            "title.basics.tsv.gz 100%[===================>] 182.53M   215MB/s    in 0.8s    \n",
            "\n",
            "2024-07-07 15:08:26 (215 MB/s) - ‘title.basics.tsv.gz’ saved [191394068/191394068]\n",
            "\n"
          ]
        }
      ],
      "source": [
        "if not os.path.exists('title.basics.tsv.gz'):\n",
        "    !wget https://datasets.imdbws.com/title.basics.tsv.gz"
      ],
      "metadata": {
        "ExecuteTime": {
          "end_time": "2024-07-07T12:12:06.003952070Z",
          "start_time": "2024-07-07T12:12:05.951900484Z"
        },
        "colab": {
          "base_uri": "https://localhost:8080/"
        },
        "id": "8a785f38684aaf83",
        "outputId": "e9e5cd04-b3a2-4adb-a3a0-a2caea304d21"
      },
      "id": "8a785f38684aaf83",
      "execution_count": 9
    },
    {
      "cell_type": "code",
      "outputs": [
        {
          "output_type": "stream",
          "name": "stdout",
          "text": [
            "--2024-07-07 15:08:26--  https://datasets.imdbws.com/title.ratings.tsv.gz\n",
            "Resolving datasets.imdbws.com (datasets.imdbws.com)... 13.224.14.12, 13.224.14.33, 13.224.14.11, ...\n",
            "Connecting to datasets.imdbws.com (datasets.imdbws.com)|13.224.14.12|:443... connected.\n",
            "HTTP request sent, awaiting response... 200 OK\n",
            "Length: 7308316 (7.0M) [binary/octet-stream]\n",
            "Saving to: ‘title.ratings.tsv.gz’\n",
            "\n",
            "\rtitle.ratings.tsv.g   0%[                    ]       0  --.-KB/s               \rtitle.ratings.tsv.g 100%[===================>]   6.97M  --.-KB/s    in 0.09s   \n",
            "\n",
            "2024-07-07 15:08:26 (75.0 MB/s) - ‘title.ratings.tsv.gz’ saved [7308316/7308316]\n",
            "\n"
          ]
        }
      ],
      "source": [
        "if not os.path.exists('title.ratings.tsv.gz'):\n",
        "    !wget https://datasets.imdbws.com/title.ratings.tsv.gz"
      ],
      "metadata": {
        "ExecuteTime": {
          "end_time": "2024-07-07T12:12:06.256214632Z",
          "start_time": "2024-07-07T12:12:05.970907573Z"
        },
        "colab": {
          "base_uri": "https://localhost:8080/"
        },
        "id": "451031bac28f27f2",
        "outputId": "54abb17b-d4b2-4f71-a1d6-e583d5230703"
      },
      "id": "451031bac28f27f2",
      "execution_count": 10
    },
    {
      "cell_type": "code",
      "outputs": [
        {
          "output_type": "stream",
          "name": "stdout",
          "text": [
            "--2024-07-07 15:08:26--  https://datasets.imdbws.com/title.crew.tsv.gz\n",
            "Resolving datasets.imdbws.com (datasets.imdbws.com)... 13.224.14.12, 13.224.14.33, 13.224.14.11, ...\n",
            "Connecting to datasets.imdbws.com (datasets.imdbws.com)|13.224.14.12|:443... connected.\n",
            "HTTP request sent, awaiting response... 200 OK\n",
            "Length: 71369593 (68M) [binary/octet-stream]\n",
            "Saving to: ‘title.crew.tsv.gz’\n",
            "\n",
            "title.crew.tsv.gz   100%[===================>]  68.06M   183MB/s    in 0.4s    \n",
            "\n",
            "2024-07-07 15:08:26 (183 MB/s) - ‘title.crew.tsv.gz’ saved [71369593/71369593]\n",
            "\n"
          ]
        }
      ],
      "source": [
        "if not os.path.exists('title.crew.tsv.gz'):\n",
        "    !wget https://datasets.imdbws.com/title.crew.tsv.gz"
      ],
      "metadata": {
        "ExecuteTime": {
          "end_time": "2024-07-07T12:12:06.303445490Z",
          "start_time": "2024-07-07T12:12:05.984427099Z"
        },
        "colab": {
          "base_uri": "https://localhost:8080/"
        },
        "id": "439828bce5181de7",
        "outputId": "b0ee80f5-cd3b-45d6-a3b2-d4e58415fed8"
      },
      "id": "439828bce5181de7",
      "execution_count": 11
    },
    {
      "cell_type": "markdown",
      "source": [
        "Load the dataset movies IMDb with only the columns: tconst, titleType, primaryTitle, startYear, endYear, and genres"
      ],
      "metadata": {
        "collapsed": false,
        "id": "67c979bb71a1557a"
      },
      "id": "67c979bb71a1557a"
    },
    {
      "cell_type": "code",
      "outputs": [
        {
          "output_type": "stream",
          "name": "stdout",
          "text": [
            "The movies IMDb dataset:\n",
            "      tconst titleType            primaryTitle startYear  \\\n",
            "0  tt0000001     short              Carmencita      1894   \n",
            "1  tt0000002     short  Le clown et ses chiens      1892   \n",
            "2  tt0000003     short          Pauvre Pierrot      1892   \n",
            "3  tt0000004     short             Un bon bock      1892   \n",
            "4  tt0000005     short        Blacksmith Scene      1893   \n",
            "\n",
            "                     genres  \n",
            "0         Documentary,Short  \n",
            "1           Animation,Short  \n",
            "2  Animation,Comedy,Romance  \n",
            "3           Animation,Short  \n",
            "4              Comedy,Short  \n",
            "The number of rows of the movies IMDb dataset is 10911804\n"
          ]
        }
      ],
      "source": [
        "only_columns = ['tconst', 'titleType', 'primaryTitle', 'startYear', 'genres']\n",
        "movies_IMDb = pd.read_csv('title.basics.tsv.gz', sep='\\t', usecols=only_columns,compression='gzip')\n",
        "print(\"The movies IMDb dataset:\")\n",
        "print(movies_IMDb.head())\n",
        "print(f\"The number of rows of the movies IMDb dataset is {movies_IMDb.shape[0]}\")"
      ],
      "metadata": {
        "ExecuteTime": {
          "end_time": "2024-07-07T12:12:52.905980334Z",
          "start_time": "2024-07-07T12:12:06.007144741Z"
        },
        "colab": {
          "base_uri": "https://localhost:8080/"
        },
        "id": "2ccdbc8bb5747fb1",
        "outputId": "c0c0cfd1-3512-4066-94f0-4b2d740778fd"
      },
      "id": "2ccdbc8bb5747fb1",
      "execution_count": 12
    },
    {
      "cell_type": "markdown",
      "source": [
        "Remove series and short from the dataset"
      ],
      "metadata": {
        "collapsed": false,
        "id": "d5e3f52bba00a2d9"
      },
      "id": "d5e3f52bba00a2d9"
    },
    {
      "cell_type": "code",
      "outputs": [
        {
          "output_type": "stream",
          "name": "stdout",
          "text": [
            "The movies IMDb dataset:\n",
            "        tconst titleType                   primaryTitle startYear  \\\n",
            "8    tt0000009     movie                     Miss Jerry      1894   \n",
            "144  tt0000147     movie  The Corbett-Fitzsimmons Fight      1897   \n",
            "498  tt0000502     movie                       Bohemios      1905   \n",
            "570  tt0000574     movie    The Story of the Kelly Gang      1906   \n",
            "587  tt0000591     movie               The Prodigal Son      1907   \n",
            "\n",
            "                         genres  \n",
            "8                       Romance  \n",
            "144      Documentary,News,Sport  \n",
            "498                          \\N  \n",
            "570  Action,Adventure,Biography  \n",
            "587                       Drama  \n",
            "The number of rows of the movies IMDb dataset is 685593\n"
          ]
        }
      ],
      "source": [
        "movies_IMDb = movies_IMDb[movies_IMDb['titleType'] == 'movie']\n",
        "print(\"The movies IMDb dataset:\")\n",
        "print(movies_IMDb.head())\n",
        "print(f\"The number of rows of the movies IMDb dataset is {movies_IMDb.shape[0]}\")"
      ],
      "metadata": {
        "ExecuteTime": {
          "end_time": "2024-07-07T12:12:53.917446364Z",
          "start_time": "2024-07-07T12:12:53.481017126Z"
        },
        "colab": {
          "base_uri": "https://localhost:8080/"
        },
        "id": "a3b7a2d882c1e496",
        "outputId": "d1aafaf6-bbe2-4797-dac8-0f33515ed272"
      },
      "id": "a3b7a2d882c1e496",
      "execution_count": 13
    },
    {
      "cell_type": "markdown",
      "source": [
        "Removing the columns: titleType to make the dataset lighter for the following merges"
      ],
      "metadata": {
        "collapsed": false,
        "id": "36beb6cf4f1fa834"
      },
      "id": "36beb6cf4f1fa834"
    },
    {
      "cell_type": "code",
      "outputs": [
        {
          "output_type": "stream",
          "name": "stderr",
          "text": [
            "<ipython-input-14-e652ad32e759>:1: SettingWithCopyWarning: \n",
            "A value is trying to be set on a copy of a slice from a DataFrame\n",
            "\n",
            "See the caveats in the documentation: https://pandas.pydata.org/pandas-docs/stable/user_guide/indexing.html#returning-a-view-versus-a-copy\n",
            "  movies_IMDb.drop('titleType', axis=1, inplace=True)\n"
          ]
        }
      ],
      "source": [
        "movies_IMDb.drop('titleType', axis=1, inplace=True)"
      ],
      "metadata": {
        "ExecuteTime": {
          "end_time": "2024-07-07T12:12:53.993242888Z",
          "start_time": "2024-07-07T12:12:53.916793298Z"
        },
        "colab": {
          "base_uri": "https://localhost:8080/"
        },
        "id": "5b20f8c82a785984",
        "outputId": "18d446d6-442e-4c0f-b960-b4ee35679faf"
      },
      "id": "5b20f8c82a785984",
      "execution_count": 14
    },
    {
      "cell_type": "markdown",
      "source": [
        "Add the ratings with only the columns: tconst, averageRating to the movies IMDb dataset"
      ],
      "metadata": {
        "collapsed": false,
        "id": "e16f92bca8bb66bc"
      },
      "id": "e16f92bca8bb66bc"
    },
    {
      "cell_type": "code",
      "outputs": [
        {
          "output_type": "stream",
          "name": "stdout",
          "text": [
            "The movies IMDb dataset:\n",
            "      tconst                   primaryTitle startYear  \\\n",
            "0  tt0000009                     Miss Jerry      1894   \n",
            "1  tt0000147  The Corbett-Fitzsimmons Fight      1897   \n",
            "2  tt0000502                       Bohemios      1905   \n",
            "3  tt0000574    The Story of the Kelly Gang      1906   \n",
            "4  tt0000591               The Prodigal Son      1907   \n",
            "\n",
            "                       genres  averageRating  \n",
            "0                     Romance            5.4  \n",
            "1      Documentary,News,Sport            5.2  \n",
            "2                          \\N            4.2  \n",
            "3  Action,Adventure,Biography            6.0  \n",
            "4                       Drama            5.5  \n",
            "The number of rows of the movies IMDb dataset is 685593\n"
          ]
        }
      ],
      "source": [
        "only_columns = ['tconst', 'averageRating']\n",
        "movies_IMDb = pd.merge(movies_IMDb, pd.read_csv('title.ratings.tsv.gz', sep='\\t', usecols=only_columns, compression='gzip'), on='tconst', how='left')\n",
        "print(\"The movies IMDb dataset:\")\n",
        "print(movies_IMDb.head())\n",
        "print(f\"The number of rows of the movies IMDb dataset is {movies_IMDb.shape[0]}\")"
      ],
      "metadata": {
        "ExecuteTime": {
          "end_time": "2024-07-07T12:12:55.826724630Z",
          "start_time": "2024-07-07T12:12:53.992676414Z"
        },
        "colab": {
          "base_uri": "https://localhost:8080/"
        },
        "id": "7f5e1375251a7f6c",
        "outputId": "87e6892d-0506-4971-af32-1ba807f46e8e"
      },
      "id": "7f5e1375251a7f6c",
      "execution_count": 15
    },
    {
      "cell_type": "markdown",
      "source": [
        "Add the crew to the movies IMDb dataset"
      ],
      "metadata": {
        "collapsed": false,
        "id": "99e301042d11133a"
      },
      "id": "99e301042d11133a"
    },
    {
      "cell_type": "code",
      "outputs": [
        {
          "output_type": "stream",
          "name": "stdout",
          "text": [
            "The movies IMDb dataset:\n",
            "      tconst                   primaryTitle startYear  \\\n",
            "0  tt0000009                     Miss Jerry      1894   \n",
            "1  tt0000147  The Corbett-Fitzsimmons Fight      1897   \n",
            "2  tt0000502                       Bohemios      1905   \n",
            "3  tt0000574    The Story of the Kelly Gang      1906   \n",
            "4  tt0000591               The Prodigal Son      1907   \n",
            "\n",
            "                       genres  averageRating  directors  \\\n",
            "0                     Romance            5.4  nm0085156   \n",
            "1      Documentary,News,Sport            5.2  nm0714557   \n",
            "2                          \\N            4.2  nm0063413   \n",
            "3  Action,Adventure,Biography            6.0  nm0846879   \n",
            "4                       Drama            5.5  nm0141150   \n",
            "\n",
            "                         writers  \n",
            "0                      nm0085156  \n",
            "1                             \\N  \n",
            "2  nm0063413,nm0657268,nm0675388  \n",
            "3                      nm0846879  \n",
            "4                      nm0141150  \n",
            "The number of rows of the movies IMDb dataset is 685593\n"
          ]
        }
      ],
      "source": [
        "movies_IMDb = pd.merge(movies_IMDb, pd.read_csv('title.crew.tsv.gz', sep='\\t', compression='gzip'), on='tconst', how='left')\n",
        "print(\"The movies IMDb dataset:\")\n",
        "print(movies_IMDb.head())\n",
        "print(f\"The number of rows of the movies IMDb dataset is {movies_IMDb.shape[0]}\")"
      ],
      "metadata": {
        "ExecuteTime": {
          "end_time": "2024-07-07T12:13:10.730612314Z",
          "start_time": "2024-07-07T12:12:55.821647497Z"
        },
        "colab": {
          "base_uri": "https://localhost:8080/"
        },
        "id": "6f7a112f2c87c8f1",
        "outputId": "e06c1f43-f581-4b49-e7c6-91b2e255546d"
      },
      "id": "6f7a112f2c87c8f1",
      "execution_count": 16
    },
    {
      "cell_type": "markdown",
      "source": [
        "Rename the column primaryTitle to title"
      ],
      "metadata": {
        "collapsed": false,
        "id": "fe1e2950d5abd6f9"
      },
      "id": "fe1e2950d5abd6f9"
    },
    {
      "cell_type": "code",
      "outputs": [
        {
          "output_type": "stream",
          "name": "stdout",
          "text": [
            "The movies IMDb dataset:\n",
            "      tconst                          title  year                      genres  \\\n",
            "0  tt0000009                     Miss Jerry  1894                     Romance   \n",
            "1  tt0000147  The Corbett-Fitzsimmons Fight  1897      Documentary,News,Sport   \n",
            "2  tt0000502                       Bohemios  1905                          \\N   \n",
            "3  tt0000574    The Story of the Kelly Gang  1906  Action,Adventure,Biography   \n",
            "4  tt0000591               The Prodigal Son  1907                       Drama   \n",
            "\n",
            "   averageRating  directors                        writers  \n",
            "0            5.4  nm0085156                      nm0085156  \n",
            "1            5.2  nm0714557                             \\N  \n",
            "2            4.2  nm0063413  nm0063413,nm0657268,nm0675388  \n",
            "3            6.0  nm0846879                      nm0846879  \n",
            "4            5.5  nm0141150                      nm0141150  \n",
            "The number of rows of the movies IMDb dataset is 685593\n"
          ]
        }
      ],
      "source": [
        "movies_IMDb.rename(columns={'primaryTitle': 'title', 'startYear': 'year'}, inplace=True)\n",
        "print(\"The movies IMDb dataset:\")\n",
        "print(movies_IMDb.head())\n",
        "print(f\"The number of rows of the movies IMDb dataset is {movies_IMDb.shape[0]}\")"
      ],
      "metadata": {
        "ExecuteTime": {
          "end_time": "2024-07-07T12:13:10.733859546Z",
          "start_time": "2024-07-07T12:13:10.722186564Z"
        },
        "colab": {
          "base_uri": "https://localhost:8080/"
        },
        "id": "3ce8424a29c2267e",
        "outputId": "43c5c4f5-242c-40fd-9e0d-9d920dcfdc6d"
      },
      "id": "3ce8424a29c2267e",
      "execution_count": 17
    },
    {
      "cell_type": "markdown",
      "source": [
        "Change the genres from string to list of string and order the list"
      ],
      "metadata": {
        "collapsed": false,
        "id": "a99a40f5022e4ffd"
      },
      "id": "a99a40f5022e4ffd"
    },
    {
      "cell_type": "code",
      "outputs": [
        {
          "output_type": "stream",
          "name": "stdout",
          "text": [
            "      tconst                          title  year  \\\n",
            "0  tt0000009                     Miss Jerry  1894   \n",
            "1  tt0000147  The Corbett-Fitzsimmons Fight  1897   \n",
            "2  tt0000502                       Bohemios  1905   \n",
            "3  tt0000574    The Story of the Kelly Gang  1906   \n",
            "4  tt0000591               The Prodigal Son  1907   \n",
            "\n",
            "                           genres  averageRating  directors  \\\n",
            "0                       [Romance]            5.4  nm0085156   \n",
            "1      [Documentary, News, Sport]            5.2  nm0714557   \n",
            "2                              []            4.2  nm0063413   \n",
            "3  [Action, Adventure, Biography]            6.0  nm0846879   \n",
            "4                         [Drama]            5.5  nm0141150   \n",
            "\n",
            "                         writers  \n",
            "0                      nm0085156  \n",
            "1                             \\N  \n",
            "2  nm0063413,nm0657268,nm0675388  \n",
            "3                      nm0846879  \n",
            "4                      nm0141150  \n",
            "The number of rows of the movies IMDb dataset is 685593\n"
          ]
        }
      ],
      "source": [
        "movies_IMDb['genres'] = movies_IMDb['genres'].str.split(',')\n",
        "movies_IMDb['genres'] = movies_IMDb['genres'].apply(lambda x: [] if x == ['\\\\N'] else x)\n",
        "movies_IMDb['genres'] = movies_IMDb['genres'].apply(lambda x: sorted(x))\n",
        "print(movies_IMDb.head())\n",
        "print(f\"The number of rows of the movies IMDb dataset is {movies_IMDb.shape[0]}\")"
      ],
      "metadata": {
        "ExecuteTime": {
          "end_time": "2024-07-07T12:13:12.585205868Z",
          "start_time": "2024-07-07T12:13:10.722582061Z"
        },
        "colab": {
          "base_uri": "https://localhost:8080/"
        },
        "id": "dd6c643e52ff2723",
        "outputId": "cff9fd92-ab19-4719-944e-e68964a04a16"
      },
      "id": "dd6c643e52ff2723",
      "execution_count": 18
    },
    {
      "cell_type": "markdown",
      "source": [
        "Change the string writers to list of string writers and order the list"
      ],
      "metadata": {
        "collapsed": false,
        "id": "cd7462bbc420643d"
      },
      "id": "cd7462bbc420643d"
    },
    {
      "cell_type": "code",
      "outputs": [
        {
          "output_type": "stream",
          "name": "stdout",
          "text": [
            "      tconst                          title  year  \\\n",
            "0  tt0000009                     Miss Jerry  1894   \n",
            "1  tt0000147  The Corbett-Fitzsimmons Fight  1897   \n",
            "2  tt0000502                       Bohemios  1905   \n",
            "3  tt0000574    The Story of the Kelly Gang  1906   \n",
            "4  tt0000591               The Prodigal Son  1907   \n",
            "\n",
            "                           genres  averageRating  directors  \\\n",
            "0                       [Romance]            5.4  nm0085156   \n",
            "1      [Documentary, News, Sport]            5.2  nm0714557   \n",
            "2                              []            4.2  nm0063413   \n",
            "3  [Action, Adventure, Biography]            6.0  nm0846879   \n",
            "4                         [Drama]            5.5  nm0141150   \n",
            "\n",
            "                             writers  \n",
            "0                        [nm0085156]  \n",
            "1                                 []  \n",
            "2  [nm0063413, nm0657268, nm0675388]  \n",
            "3                        [nm0846879]  \n",
            "4                        [nm0141150]  \n"
          ]
        }
      ],
      "source": [
        "movies_IMDb['writers'] = movies_IMDb['writers'].str.split(',')\n",
        "movies_IMDb['writers'] = movies_IMDb['writers'].apply(lambda x: [] if x == ['\\\\N'] else x)\n",
        "print(movies_IMDb.head())"
      ],
      "metadata": {
        "ExecuteTime": {
          "end_time": "2024-07-07T12:13:13.722066375Z",
          "start_time": "2024-07-07T12:13:12.656609899Z"
        },
        "colab": {
          "base_uri": "https://localhost:8080/"
        },
        "id": "fa627157288fe750",
        "outputId": "896ef97a-cfce-4cda-93a1-4becda197b5f"
      },
      "id": "fa627157288fe750",
      "execution_count": 19
    },
    {
      "cell_type": "markdown",
      "source": [
        "Change the string directors to list of string directors and order the list"
      ],
      "metadata": {
        "collapsed": false,
        "id": "a7bf04e6165c0100"
      },
      "id": "a7bf04e6165c0100"
    },
    {
      "cell_type": "code",
      "outputs": [
        {
          "output_type": "stream",
          "name": "stdout",
          "text": [
            "      tconst                          title  year  \\\n",
            "0  tt0000009                     Miss Jerry  1894   \n",
            "1  tt0000147  The Corbett-Fitzsimmons Fight  1897   \n",
            "2  tt0000502                       Bohemios  1905   \n",
            "3  tt0000574    The Story of the Kelly Gang  1906   \n",
            "4  tt0000591               The Prodigal Son  1907   \n",
            "\n",
            "                           genres  averageRating    directors  \\\n",
            "0                       [Romance]            5.4  [nm0085156]   \n",
            "1      [Documentary, News, Sport]            5.2  [nm0714557]   \n",
            "2                              []            4.2  [nm0063413]   \n",
            "3  [Action, Adventure, Biography]            6.0  [nm0846879]   \n",
            "4                         [Drama]            5.5  [nm0141150]   \n",
            "\n",
            "                             writers  \n",
            "0                        [nm0085156]  \n",
            "1                                 []  \n",
            "2  [nm0063413, nm0657268, nm0675388]  \n",
            "3                        [nm0846879]  \n",
            "4                        [nm0141150]  \n"
          ]
        }
      ],
      "source": [
        "movies_IMDb['directors'] = movies_IMDb['directors'].str.split(',')\n",
        "movies_IMDb['directors'] = movies_IMDb['directors'].apply(lambda x: [] if x == ['\\\\N'] else x)\n",
        "print(movies_IMDb.head())"
      ],
      "metadata": {
        "ExecuteTime": {
          "end_time": "2024-07-07T12:13:14.882941691Z",
          "start_time": "2024-07-07T12:13:13.745005892Z"
        },
        "colab": {
          "base_uri": "https://localhost:8080/"
        },
        "id": "2038bb83057076d1",
        "outputId": "9b5ae25a-2295-4a37-b3f5-131cd8517ff3"
      },
      "id": "2038bb83057076d1",
      "execution_count": 20
    },
    {
      "cell_type": "markdown",
      "source": [],
      "metadata": {
        "collapsed": false,
        "id": "576f1ec997e8ff0b"
      },
      "id": "576f1ec997e8ff0b"
    },
    {
      "cell_type": "markdown",
      "source": [
        "### Convert the year column to integer"
      ],
      "metadata": {
        "collapsed": false,
        "id": "ff3563a87533ac69"
      },
      "id": "ff3563a87533ac69"
    },
    {
      "cell_type": "code",
      "outputs": [
        {
          "output_type": "stream",
          "name": "stdout",
          "text": [
            "tconst            object\n",
            "title             object\n",
            "year               int64\n",
            "genres            object\n",
            "averageRating    float64\n",
            "directors         object\n",
            "writers           object\n",
            "dtype: object\n"
          ]
        }
      ],
      "source": [
        "movies_IMDb['year'] = pd.to_numeric(movies_IMDb['year'], errors='coerce').fillna(0).astype(int)\n",
        "print(movies_IMDb.dtypes)"
      ],
      "metadata": {
        "ExecuteTime": {
          "end_time": "2024-07-07T12:13:15.179514172Z",
          "start_time": "2024-07-07T12:13:15.168928503Z"
        },
        "colab": {
          "base_uri": "https://localhost:8080/"
        },
        "id": "2daa426993472c0d",
        "outputId": "66547864-a842-4103-a039-071a0de46ccb"
      },
      "id": "2daa426993472c0d",
      "execution_count": 21
    },
    {
      "cell_type": "markdown",
      "source": [
        "### Merge datasets to include movie ratings, genres, and metadata"
      ],
      "metadata": {
        "collapsed": false,
        "id": "f94dc052aea02567"
      },
      "id": "f94dc052aea02567"
    },
    {
      "cell_type": "code",
      "outputs": [],
      "source": [
        "merge_dataset = pd.merge(merge_MovieLens, movies_IMDb, on=['title', 'year'], how='inner')"
      ],
      "metadata": {
        "ExecuteTime": {
          "end_time": "2024-07-07T12:13:15.656539859Z",
          "start_time": "2024-07-07T12:13:15.179226786Z"
        },
        "id": "8d0bb815fabd1a0b"
      },
      "id": "8d0bb815fabd1a0b",
      "execution_count": 22
    },
    {
      "cell_type": "code",
      "outputs": [
        {
          "output_type": "stream",
          "name": "stdout",
          "text": [
            "The merge dataset:\n",
            "   userId  movieId  rating                            title genres_x  year  \\\n",
            "0       1     1193       5  One Flew Over the Cuckoo's Nest  [Drama]  1975   \n",
            "1       2     1193       5  One Flew Over the Cuckoo's Nest  [Drama]  1975   \n",
            "2      12     1193       4  One Flew Over the Cuckoo's Nest  [Drama]  1975   \n",
            "3      15     1193       4  One Flew Over the Cuckoo's Nest  [Drama]  1975   \n",
            "4      17     1193       5  One Flew Over the Cuckoo's Nest  [Drama]  1975   \n",
            "\n",
            "      tconst genres_y  averageRating    directors  \\\n",
            "0  tt0073486  [Drama]            8.7  [nm0001232]   \n",
            "1  tt0073486  [Drama]            8.7  [nm0001232]   \n",
            "2  tt0073486  [Drama]            8.7  [nm0001232]   \n",
            "3  tt0073486  [Drama]            8.7  [nm0001232]   \n",
            "4  tt0073486  [Drama]            8.7  [nm0001232]   \n",
            "\n",
            "                                        writers  \n",
            "0  [nm0369142, nm0325743, nm0450181, nm0913670]  \n",
            "1  [nm0369142, nm0325743, nm0450181, nm0913670]  \n",
            "2  [nm0369142, nm0325743, nm0450181, nm0913670]  \n",
            "3  [nm0369142, nm0325743, nm0450181, nm0913670]  \n",
            "4  [nm0369142, nm0325743, nm0450181, nm0913670]  \n",
            "The number of rows of the merge dataset is 695441\n"
          ]
        }
      ],
      "source": [
        "print(\"The merge dataset:\")\n",
        "print(merge_dataset.head())\n",
        "print(f\"The number of rows of the merge dataset is {merge_dataset.shape[0]}\")"
      ],
      "metadata": {
        "ExecuteTime": {
          "end_time": "2024-07-07T12:13:15.669651453Z",
          "start_time": "2024-07-07T12:13:15.661477417Z"
        },
        "colab": {
          "base_uri": "https://localhost:8080/"
        },
        "id": "5aef50ffad84d3b1",
        "outputId": "8ac77eb9-c162-4113-892a-f1b0501dcd29"
      },
      "id": "5aef50ffad84d3b1",
      "execution_count": 23
    },
    {
      "cell_type": "markdown",
      "source": [
        "## Feature Engineering"
      ],
      "metadata": {
        "collapsed": false,
        "id": "445ed61be59dd492"
      },
      "id": "445ed61be59dd492"
    },
    {
      "cell_type": "markdown",
      "source": [
        "### Combine genres from both datasets"
      ],
      "metadata": {
        "collapsed": false,
        "id": "583666bb12614cf6"
      },
      "id": "583666bb12614cf6"
    },
    {
      "cell_type": "code",
      "outputs": [
        {
          "output_type": "stream",
          "name": "stdout",
          "text": [
            "   userId  movieId  rating                            title  year     tconst  \\\n",
            "0       1     1193       5  One Flew Over the Cuckoo's Nest  1975  tt0073486   \n",
            "1       2     1193       5  One Flew Over the Cuckoo's Nest  1975  tt0073486   \n",
            "2      12     1193       4  One Flew Over the Cuckoo's Nest  1975  tt0073486   \n",
            "3      15     1193       4  One Flew Over the Cuckoo's Nest  1975  tt0073486   \n",
            "4      17     1193       5  One Flew Over the Cuckoo's Nest  1975  tt0073486   \n",
            "\n",
            "   averageRating    directors                                       writers  \\\n",
            "0            8.7  [nm0001232]  [nm0369142, nm0325743, nm0450181, nm0913670]   \n",
            "1            8.7  [nm0001232]  [nm0369142, nm0325743, nm0450181, nm0913670]   \n",
            "2            8.7  [nm0001232]  [nm0369142, nm0325743, nm0450181, nm0913670]   \n",
            "3            8.7  [nm0001232]  [nm0369142, nm0325743, nm0450181, nm0913670]   \n",
            "4            8.7  [nm0001232]  [nm0369142, nm0325743, nm0450181, nm0913670]   \n",
            "\n",
            "    genres  \n",
            "0  [Drama]  \n",
            "1  [Drama]  \n",
            "2  [Drama]  \n",
            "3  [Drama]  \n",
            "4  [Drama]  \n",
            "The number of rows of the merge dataset is 695441\n"
          ]
        }
      ],
      "source": [
        "# combine the genres columns\n",
        "def combine_genres(genres_x, genres_y):\n",
        "    \"\"\"\n",
        "    Combine the genres of the two datasets\n",
        "    \"\"\"\n",
        "    return list(set(genres_x + genres_y))\n",
        "merge_dataset['genres'] = merge_dataset.apply(lambda row: combine_genres(row['genres_x'], row['genres_y']), axis=1)\n",
        "# remove the genres_x and genres_y columns\n",
        "merge_dataset.drop(['genres_x', 'genres_y'], axis=1, inplace=True)\n",
        "print(merge_dataset.head())\n",
        "print(f\"The number of rows of the merge dataset is {merge_dataset.shape[0]}\")"
      ],
      "metadata": {
        "ExecuteTime": {
          "end_time": "2024-07-07T12:13:21.019945669Z",
          "start_time": "2024-07-07T12:13:15.667849902Z"
        },
        "colab": {
          "base_uri": "https://localhost:8080/"
        },
        "id": "b0665f6657da6e62",
        "outputId": "dbbe350d-3e37-410e-e54a-89e90d68f47a"
      },
      "id": "b0665f6657da6e62",
      "execution_count": 24
    },
    {
      "cell_type": "code",
      "outputs": [],
      "source": [
        "def combine_cast(writers, directors):\n",
        "    \"\"\"\n",
        "    Combine the writers and directors columns to create cast column\n",
        "    \"\"\"\n",
        "    return list(set(writers + directors))"
      ],
      "metadata": {
        "ExecuteTime": {
          "end_time": "2024-07-07T12:13:21.026087293Z",
          "start_time": "2024-07-07T12:13:21.019307147Z"
        },
        "id": "55d229bde9c50d6e"
      },
      "id": "55d229bde9c50d6e",
      "execution_count": 25
    },
    {
      "cell_type": "code",
      "outputs": [],
      "source": [
        "merge_dataset['cast'] = merge_dataset.apply(lambda row: combine_cast(row['writers'], row['directors']), axis=1)"
      ],
      "metadata": {
        "ExecuteTime": {
          "end_time": "2024-07-07T12:13:26.810711530Z",
          "start_time": "2024-07-07T12:13:21.022661361Z"
        },
        "id": "df196debdf23e088"
      },
      "id": "df196debdf23e088",
      "execution_count": 26
    },
    {
      "cell_type": "code",
      "outputs": [
        {
          "output_type": "stream",
          "name": "stdout",
          "text": [
            "   userId  movieId  rating                            title  year     tconst  \\\n",
            "0       1     1193       5  One Flew Over the Cuckoo's Nest  1975  tt0073486   \n",
            "1       2     1193       5  One Flew Over the Cuckoo's Nest  1975  tt0073486   \n",
            "2      12     1193       4  One Flew Over the Cuckoo's Nest  1975  tt0073486   \n",
            "3      15     1193       4  One Flew Over the Cuckoo's Nest  1975  tt0073486   \n",
            "4      17     1193       5  One Flew Over the Cuckoo's Nest  1975  tt0073486   \n",
            "\n",
            "   averageRating   genres                                               cast  \n",
            "0            8.7  [Drama]  [nm0913670, nm0450181, nm0369142, nm0325743, n...  \n",
            "1            8.7  [Drama]  [nm0913670, nm0450181, nm0369142, nm0325743, n...  \n",
            "2            8.7  [Drama]  [nm0913670, nm0450181, nm0369142, nm0325743, n...  \n",
            "3            8.7  [Drama]  [nm0913670, nm0450181, nm0369142, nm0325743, n...  \n",
            "4            8.7  [Drama]  [nm0913670, nm0450181, nm0369142, nm0325743, n...  \n"
          ]
        }
      ],
      "source": [
        "merge_dataset.drop(['writers', 'directors'], axis=1, inplace=True)\n",
        "print(merge_dataset.head())"
      ],
      "metadata": {
        "ExecuteTime": {
          "end_time": "2024-07-07T12:13:26.892674947Z",
          "start_time": "2024-07-07T12:13:26.812031906Z"
        },
        "colab": {
          "base_uri": "https://localhost:8080/"
        },
        "id": "d802cd596f1dea9f",
        "outputId": "dc8f2e1e-73b7-4d71-cec0-ae43887975b8"
      },
      "id": "d802cd596f1dea9f",
      "execution_count": 27
    },
    {
      "cell_type": "markdown",
      "source": [
        "### Convert the rating column to float"
      ],
      "metadata": {
        "collapsed": false,
        "id": "26b1463235cd162f"
      },
      "id": "26b1463235cd162f"
    },
    {
      "cell_type": "code",
      "outputs": [
        {
          "output_type": "stream",
          "name": "stdout",
          "text": [
            "userId             int64\n",
            "movieId            int64\n",
            "rating           float64\n",
            "title             object\n",
            "year               int64\n",
            "tconst            object\n",
            "averageRating    float64\n",
            "genres            object\n",
            "cast              object\n",
            "dtype: object\n"
          ]
        }
      ],
      "source": [
        "merge_dataset['rating'] = merge_dataset['rating'].astype(float)\n",
        "print(merge_dataset.dtypes)"
      ],
      "metadata": {
        "ExecuteTime": {
          "end_time": "2024-07-07T12:13:26.899385187Z",
          "start_time": "2024-07-07T12:13:26.891459315Z"
        },
        "colab": {
          "base_uri": "https://localhost:8080/"
        },
        "id": "807df25f70242e4e",
        "outputId": "2940168c-bba1-4de0-9bf9-a0139ba0f738"
      },
      "id": "807df25f70242e4e",
      "execution_count": 28
    },
    {
      "cell_type": "markdown",
      "source": [
        "### Remove tconst column to only keep the movieId column"
      ],
      "metadata": {
        "collapsed": false,
        "id": "813ddf392af60296"
      },
      "id": "813ddf392af60296"
    },
    {
      "cell_type": "markdown",
      "source": [
        "We do that because we don't need 2 id columns for the same movie"
      ],
      "metadata": {
        "collapsed": false,
        "id": "d5b8c711aba0c84f"
      },
      "id": "d5b8c711aba0c84f"
    },
    {
      "cell_type": "code",
      "outputs": [
        {
          "output_type": "stream",
          "name": "stdout",
          "text": [
            "   userId  movieId  rating                            title  year  \\\n",
            "0       1     1193     5.0  One Flew Over the Cuckoo's Nest  1975   \n",
            "1       2     1193     5.0  One Flew Over the Cuckoo's Nest  1975   \n",
            "2      12     1193     4.0  One Flew Over the Cuckoo's Nest  1975   \n",
            "3      15     1193     4.0  One Flew Over the Cuckoo's Nest  1975   \n",
            "4      17     1193     5.0  One Flew Over the Cuckoo's Nest  1975   \n",
            "\n",
            "   averageRating   genres                                               cast  \n",
            "0            8.7  [Drama]  [nm0913670, nm0450181, nm0369142, nm0325743, n...  \n",
            "1            8.7  [Drama]  [nm0913670, nm0450181, nm0369142, nm0325743, n...  \n",
            "2            8.7  [Drama]  [nm0913670, nm0450181, nm0369142, nm0325743, n...  \n",
            "3            8.7  [Drama]  [nm0913670, nm0450181, nm0369142, nm0325743, n...  \n",
            "4            8.7  [Drama]  [nm0913670, nm0450181, nm0369142, nm0325743, n...  \n"
          ]
        }
      ],
      "source": [
        "merge_dataset.drop('tconst', axis=1, inplace=True)\n",
        "print(merge_dataset.head())"
      ],
      "metadata": {
        "ExecuteTime": {
          "end_time": "2024-07-07T12:13:27.012476992Z",
          "start_time": "2024-07-07T12:13:26.914211863Z"
        },
        "colab": {
          "base_uri": "https://localhost:8080/"
        },
        "id": "9f48029dfcbca8db",
        "outputId": "60e01bba-45ed-41d1-b09d-83ab07cb6a5d"
      },
      "id": "9f48029dfcbca8db",
      "execution_count": 29
    },
    {
      "cell_type": "markdown",
      "source": [
        "### Create a metadata column"
      ],
      "metadata": {
        "collapsed": false,
        "id": "dc594aeeef32adb8"
      },
      "id": "dc594aeeef32adb8"
    },
    {
      "cell_type": "code",
      "outputs": [],
      "source": [
        "merge_dataset['metadata'] = merge_dataset['genres'].apply(lambda x: ' '.join(x)) + ' ' + merge_dataset['cast'].apply(lambda x: ' '.join(x)) + ' ' + merge_dataset['year'].astype(str)"
      ],
      "metadata": {
        "ExecuteTime": {
          "end_time": "2024-07-07T12:13:27.707846965Z",
          "start_time": "2024-07-07T12:13:26.967815044Z"
        },
        "id": "340abef1e5aeb809"
      },
      "id": "340abef1e5aeb809",
      "execution_count": 30
    },
    {
      "cell_type": "markdown",
      "source": [
        "### Create a user-item interaction matrix for collaborative filtering"
      ],
      "metadata": {
        "collapsed": false,
        "id": "8e6f4df4775964ab"
      },
      "id": "8e6f4df4775964ab"
    },
    {
      "cell_type": "code",
      "outputs": [
        {
          "output_type": "stream",
          "name": "stdout",
          "text": [
            "movieId  1     2     3     4     5     6     7     8     9     10    ...  \\\n",
            "userId                                                               ...   \n",
            "1         5.0   NaN   NaN   NaN   NaN   NaN   NaN   NaN   NaN   NaN  ...   \n",
            "2         NaN   NaN   NaN   NaN   NaN   NaN   NaN   NaN   NaN   NaN  ...   \n",
            "3         NaN   NaN   NaN   NaN   NaN   NaN   NaN   NaN   NaN   NaN  ...   \n",
            "4         NaN   NaN   NaN   NaN   NaN   NaN   NaN   NaN   NaN   NaN  ...   \n",
            "5         NaN   NaN   NaN   NaN   NaN   2.0   NaN   NaN   NaN   NaN  ...   \n",
            "\n",
            "movieId  3942  3943  3944  3945  3946  3947  3948  3949  3950  3951  \n",
            "userId                                                               \n",
            "1         NaN   NaN   NaN   NaN   NaN   NaN   NaN   NaN   NaN   NaN  \n",
            "2         NaN   NaN   NaN   NaN   NaN   NaN   NaN   NaN   NaN   NaN  \n",
            "3         NaN   NaN   NaN   NaN   NaN   NaN   NaN   NaN   NaN   NaN  \n",
            "4         NaN   NaN   NaN   NaN   NaN   NaN   NaN   NaN   NaN   NaN  \n",
            "5         NaN   NaN   NaN   NaN   NaN   NaN   NaN   NaN   NaN   NaN  \n",
            "\n",
            "[5 rows x 2299 columns]\n"
          ]
        }
      ],
      "source": [
        "user_item_matrix = merge_dataset.pivot_table(index='userId', columns='movieId', values='rating')\n",
        "print(user_item_matrix.head())"
      ],
      "metadata": {
        "ExecuteTime": {
          "end_time": "2024-07-07T12:13:28.139180933Z",
          "start_time": "2024-07-07T12:13:27.749791697Z"
        },
        "colab": {
          "base_uri": "https://localhost:8080/"
        },
        "id": "364ee22719f6a296",
        "outputId": "06d50963-af57-41a8-ec98-45bf0de53570"
      },
      "id": "364ee22719f6a296",
      "execution_count": 31
    },
    {
      "cell_type": "code",
      "outputs": [],
      "source": [
        "user_item_matrix_sparse = user_item_matrix.fillna(0)"
      ],
      "metadata": {
        "ExecuteTime": {
          "end_time": "2024-07-07T12:13:28.198712478Z",
          "start_time": "2024-07-07T12:13:28.137394515Z"
        },
        "id": "37493462895a07ac"
      },
      "id": "37493462895a07ac",
      "execution_count": 32
    },
    {
      "cell_type": "markdown",
      "source": [
        "### Understand how to combine user data to get data for the couple of users"
      ],
      "metadata": {
        "collapsed": false,
        "id": "9d3fa1d0cf030cee"
      },
      "id": "9d3fa1d0cf030cee"
    },
    {
      "cell_type": "markdown",
      "source": [
        "#### Get the number of reviews per user and per movie"
      ],
      "metadata": {
        "collapsed": false,
        "id": "e28bc8109564d520"
      },
      "id": "e28bc8109564d520"
    },
    {
      "cell_type": "code",
      "outputs": [
        {
          "output_type": "stream",
          "name": "stdout",
          "text": [
            "userId\n",
            "4169    1503\n",
            "1680    1275\n",
            "4277    1147\n",
            "1941    1107\n",
            "1181    1026\n",
            "Name: count, dtype: int64\n"
          ]
        }
      ],
      "source": [
        "usercount = merge_dataset['userId'].value_counts()\n",
        "print(usercount.head())"
      ],
      "metadata": {
        "ExecuteTime": {
          "end_time": "2024-07-07T12:13:28.214949401Z",
          "start_time": "2024-07-07T12:13:28.207660073Z"
        },
        "colab": {
          "base_uri": "https://localhost:8080/"
        },
        "id": "6bfbbee4cad78dea",
        "outputId": "6eeda481-0457-41dd-83b8-cfdc68ddc477"
      },
      "id": "6bfbbee4cad78dea",
      "execution_count": 33
    },
    {
      "cell_type": "markdown",
      "source": [
        "#### Get the number of reviews per movie"
      ],
      "metadata": {
        "collapsed": false,
        "id": "b17cacc86bedfc46"
      },
      "id": "b17cacc86bedfc46"
    },
    {
      "cell_type": "code",
      "outputs": [
        {
          "output_type": "stream",
          "name": "stdout",
          "text": [
            "movieId\n",
            "2858    3428\n",
            "260     2991\n",
            "1196    2990\n",
            "1210    2883\n",
            "480     2672\n",
            "Name: count, dtype: int64\n"
          ]
        }
      ],
      "source": [
        "filmcount = merge_dataset['movieId'].value_counts()\n",
        "print(filmcount.head())"
      ],
      "metadata": {
        "ExecuteTime": {
          "end_time": "2024-07-07T12:13:28.274852137Z",
          "start_time": "2024-07-07T12:13:28.212808061Z"
        },
        "colab": {
          "base_uri": "https://localhost:8080/"
        },
        "id": "f9fb5bc954b6dfc5",
        "outputId": "de9fc5ba-1f8a-4826-9878-da3abb742355"
      },
      "id": "f9fb5bc954b6dfc5",
      "execution_count": 34
    },
    {
      "cell_type": "markdown",
      "source": [
        "## Model Development"
      ],
      "metadata": {
        "collapsed": false,
        "id": "445774c254dfa1ff"
      },
      "id": "445774c254dfa1ff"
    },
    {
      "cell_type": "markdown",
      "source": [
        "### Implement a recommender system algotithm to predict the rating of a movie by a couple of users"
      ],
      "metadata": {
        "collapsed": false,
        "id": "4553c2942605370c"
      },
      "id": "4553c2942605370c"
    },
    {
      "cell_type": "code",
      "outputs": [],
      "source": [
        "import numpy as np\n",
        "import pandas as pd"
      ],
      "metadata": {
        "ExecuteTime": {
          "end_time": "2024-07-07T12:13:28.324354582Z",
          "start_time": "2024-07-07T12:13:28.224852822Z"
        },
        "id": "19f1a7339bc65e63"
      },
      "id": "19f1a7339bc65e63",
      "execution_count": 35
    },
    {
      "cell_type": "code",
      "outputs": [],
      "source": [
        "R = user_item_matrix_sparse.values\n",
        "user_ratings_mean = np.mean(R, axis=1)\n",
        "R_demeaned = R - user_ratings_mean.reshape(-1, 1)"
      ],
      "metadata": {
        "ExecuteTime": {
          "end_time": "2024-07-07T12:13:28.379235706Z",
          "start_time": "2024-07-07T12:13:28.265911136Z"
        },
        "id": "b7d81f5b399efd09"
      },
      "id": "b7d81f5b399efd09",
      "execution_count": 36
    },
    {
      "cell_type": "markdown",
      "source": [
        "#### Collaborative filtering using Singular Value Decomposition (SVD)"
      ],
      "metadata": {
        "collapsed": false,
        "id": "f511479dfb07a618"
      },
      "id": "f511479dfb07a618"
    },
    {
      "cell_type": "code",
      "outputs": [],
      "source": [
        "from scipy.sparse.linalg import svds\n",
        "def svd_decomposition(R, k=50):\n",
        "    \"\"\"\n",
        "    Perform Singular Value Decomposition (SVD) on the user-item interaction matrix\n",
        "    \"\"\"\n",
        "    U, sigma, Vt = svds(R, k=k)\n",
        "    sigma = np.diag(sigma)\n",
        "    return U, sigma, Vt"
      ],
      "metadata": {
        "ExecuteTime": {
          "end_time": "2024-07-07T12:13:28.722235667Z",
          "start_time": "2024-07-07T12:13:28.275197565Z"
        },
        "id": "dc8b20f291bbe40a"
      },
      "id": "dc8b20f291bbe40a",
      "execution_count": 37
    },
    {
      "cell_type": "code",
      "outputs": [],
      "source": [
        "U, sigma, Vt = svd_decomposition(R_demeaned, k=50)"
      ],
      "metadata": {
        "ExecuteTime": {
          "end_time": "2024-07-07T12:13:32.383557573Z",
          "start_time": "2024-07-07T12:13:28.322172329Z"
        },
        "id": "2cdc82e0a0d903d6"
      },
      "id": "2cdc82e0a0d903d6",
      "execution_count": 38
    },
    {
      "cell_type": "code",
      "outputs": [],
      "source": [
        "predicted_ratings = np.dot(np.dot(U, sigma), Vt) + user_ratings_mean.reshape(-1, 1)\n",
        "predicted_ratings_df = pd.DataFrame(predicted_ratings, columns=user_item_matrix_sparse.columns, index=user_item_matrix_sparse.index)"
      ],
      "metadata": {
        "ExecuteTime": {
          "end_time": "2024-07-07T12:13:32.540423182Z",
          "start_time": "2024-07-07T12:13:32.384734796Z"
        },
        "id": "406c0c4020750502"
      },
      "id": "406c0c4020750502",
      "execution_count": 39
    },
    {
      "cell_type": "code",
      "outputs": [],
      "source": [
        "def combine_predictions(user1_id, user2_id, predicted_ratings_df):\n",
        "    \"\"\"\n",
        "    Combine the predictions of two users\n",
        "    \"\"\"\n",
        "    user1_predictions = predicted_ratings_df.loc[user1_id]\n",
        "    user2_predictions = predicted_ratings_df.loc[user2_id]\n",
        "    return (user1_predictions + user2_predictions) / 2"
      ],
      "metadata": {
        "ExecuteTime": {
          "end_time": "2024-07-07T12:13:32.540654275Z",
          "start_time": "2024-07-07T12:13:32.516251754Z"
        },
        "id": "83be259b4397d5b9"
      },
      "id": "83be259b4397d5b9",
      "execution_count": 40
    },
    {
      "cell_type": "markdown",
      "source": [
        "## Recommendation Algorithm"
      ],
      "metadata": {
        "collapsed": false,
        "id": "ce7c3e7acb65a58d"
      },
      "id": "ce7c3e7acb65a58d"
    },
    {
      "cell_type": "markdown",
      "source": [
        "#### Content-based filtering using KMeans"
      ],
      "metadata": {
        "collapsed": false,
        "id": "e5c6b7b1020c07c2"
      },
      "id": "e5c6b7b1020c07c2"
    },
    {
      "cell_type": "code",
      "outputs": [],
      "source": [
        "from sklearn.cluster import KMeans\n",
        "from sklearn.feature_extraction.text import CountVectorizer"
      ],
      "metadata": {
        "ExecuteTime": {
          "end_time": "2024-07-07T12:13:32.619443217Z",
          "start_time": "2024-07-07T12:13:32.521733839Z"
        },
        "id": "d8c418462471dbf"
      },
      "id": "d8c418462471dbf",
      "execution_count": 41
    },
    {
      "cell_type": "code",
      "outputs": [],
      "source": [
        "count_vectorizer = CountVectorizer()\n",
        "metadata_matrix = count_vectorizer.fit_transform(merge_dataset['metadata'].values)"
      ],
      "metadata": {
        "ExecuteTime": {
          "end_time": "2024-07-07T12:13:36.477621719Z",
          "start_time": "2024-07-07T12:13:32.611536616Z"
        },
        "id": "25f944f0192f7198"
      },
      "id": "25f944f0192f7198",
      "execution_count": 42
    },
    {
      "cell_type": "code",
      "outputs": [
        {
          "output_type": "stream",
          "name": "stderr",
          "text": [
            "/usr/local/lib/python3.10/dist-packages/sklearn/cluster/_kmeans.py:870: FutureWarning: The default value of `n_init` will change from 10 to 'auto' in 1.4. Set the value of `n_init` explicitly to suppress the warning\n",
            "  warnings.warn(\n"
          ]
        }
      ],
      "source": [
        "kmeans = KMeans(n_clusters=10, random_state=42)\n",
        "merge_dataset['clusterId'] = kmeans.fit_predict(metadata_matrix)"
      ],
      "metadata": {
        "ExecuteTime": {
          "end_time": "2024-07-07T12:13:47.122646975Z",
          "start_time": "2024-07-07T12:13:36.478501261Z"
        },
        "colab": {
          "base_uri": "https://localhost:8080/"
        },
        "id": "60da3e901c2aafb1",
        "outputId": "7c47c518-6690-4cd8-b3b4-a92647d13e27"
      },
      "id": "60da3e901c2aafb1",
      "execution_count": 43
    },
    {
      "cell_type": "code",
      "outputs": [],
      "source": [
        "def get_recommendations_kmeans(movieId, merge_dataset, n_recommendations=5):\n",
        "    \"\"\"\n",
        "    Get the recommendations of a movie using KMeans\n",
        "    \"\"\"\n",
        "    movie_cluster = merge_dataset[merge_dataset['movieId'] == movieId]['clusterId'].values[0]\n",
        "    recommendations = merge_dataset[merge_dataset['clusterId'] == movie_cluster].sort_values('averageRating', ascending=False).head(n_recommendations)\n",
        "    return recommendations[['movieId', 'title', 'genres', 'cast', 'year']]"
      ],
      "metadata": {
        "ExecuteTime": {
          "end_time": "2024-07-07T12:13:47.131368095Z",
          "start_time": "2024-07-07T12:13:47.124743361Z"
        },
        "id": "5b30afb9b3cd6cbd"
      },
      "id": "5b30afb9b3cd6cbd",
      "execution_count": 44
    },
    {
      "cell_type": "markdown",
      "source": [
        "### Combine Collaborative and content-based filtering to create a hybrid recommender system to predict the rating of a movie by a couple of users"
      ],
      "metadata": {
        "collapsed": false,
        "id": "742d1be542ba8174"
      },
      "id": "742d1be542ba8174"
    },
    {
      "cell_type": "markdown",
      "source": [
        "### Develop an algorithm to suggest one movie that might be likes by the couple of users"
      ],
      "metadata": {
        "collapsed": false,
        "id": "8be36ceade250e57"
      },
      "id": "8be36ceade250e57"
    },
    {
      "cell_type": "code",
      "outputs": [],
      "source": [
        "from sklearn.preprocessing import MinMaxScaler"
      ],
      "metadata": {
        "ExecuteTime": {
          "end_time": "2024-07-07T12:13:47.142033824Z",
          "start_time": "2024-07-07T12:13:47.129034710Z"
        },
        "id": "8a2d3b9e6c0f5776"
      },
      "id": "8a2d3b9e6c0f5776",
      "execution_count": 45
    },
    {
      "cell_type": "code",
      "outputs": [],
      "source": [
        "def normalize_ratings(ratings, min_rating=0.5, max_rating=5):\n",
        "    \"\"\"\n",
        "    Normalize the ratings to be between 0.5 and 5\n",
        "    \"\"\"\n",
        "    scaler = MinMaxScaler(feature_range=(min_rating, max_rating))\n",
        "    ratings_array = np.array([rating for _, rating in ratings]).reshape(-1, 1)\n",
        "    normalized_ratings = scaler.fit_transform(ratings_array).flatten()\n",
        "    return [(movieId, rating) for (movieId, _), rating in zip(ratings, normalized_ratings)]"
      ],
      "metadata": {
        "ExecuteTime": {
          "end_time": "2024-07-07T12:13:47.148797300Z",
          "start_time": "2024-07-07T12:13:47.139628488Z"
        },
        "id": "13291399565aeae3"
      },
      "id": "13291399565aeae3",
      "execution_count": 46
    },
    {
      "cell_type": "code",
      "outputs": [],
      "source": [
        "def calculate_couple_score_hybrid(user1_id, user2_id, predicted_ratings_df, merge_dataset):\n",
        "    \"\"\"\n",
        "    Calculate the score of a couple of users using the hybrid recommender system\n",
        "    \"\"\"\n",
        "    combined_ratings = combine_predictions(user1_id, user2_id, predicted_ratings_df)\n",
        "\n",
        "    movie_ratings = combined_ratings.to_dict()\n",
        "\n",
        "    for movieId in movie_ratings.keys():\n",
        "        metadata_recommendations = get_recommendations_kmeans(movieId, merge_dataset)\n",
        "        for _, row in metadata_recommendations.iterrows():\n",
        "            recommended_movie = row['movieId']\n",
        "            if recommended_movie in movie_ratings:\n",
        "                movie_ratings[recommended_movie] += movie_ratings[movieId] * 0.1\n",
        "\n",
        "    sorted_movie_ratings = sorted(movie_ratings.items(), key=lambda x: x[1], reverse=True)\n",
        "    normalized_sorted_movie_ratings = normalize_ratings(sorted_movie_ratings)\n",
        "    return normalized_sorted_movie_ratings"
      ],
      "metadata": {
        "ExecuteTime": {
          "end_time": "2024-07-07T12:13:47.186310878Z",
          "start_time": "2024-07-07T12:13:47.144508209Z"
        },
        "id": "ef0be6ba0945f83"
      },
      "id": "ef0be6ba0945f83",
      "execution_count": 47
    },
    {
      "cell_type": "code",
      "outputs": [],
      "source": [
        "def get_score_of_movie_hybrid(user1_id, user2_id, movieId, predicted_ratings_df, merge_dataset):\n",
        "    \"\"\"\n",
        "    Get the score of a movie for a couple of users using the hybrid recommender system\n",
        "    \"\"\"\n",
        "    sorted_movie_scores = calculate_couple_score_hybrid(user1_id, user2_id, predicted_ratings_df, merge_dataset)\n",
        "    for movie_score in sorted_movie_scores:\n",
        "        if movie_score[0] == movieId:\n",
        "            return movie_score[1]\n",
        "    return 0"
      ],
      "metadata": {
        "ExecuteTime": {
          "end_time": "2024-07-07T12:13:47.217792912Z",
          "start_time": "2024-07-07T12:13:47.150507234Z"
        },
        "id": "2674c0b5b75ba7f9"
      },
      "id": "2674c0b5b75ba7f9",
      "execution_count": 48
    },
    {
      "cell_type": "code",
      "outputs": [
        {
          "output_type": "stream",
          "name": "stdout",
          "text": [
            "2.579240506672697\n"
          ]
        }
      ],
      "source": [
        "print(get_score_of_movie_hybrid(1, 2, 1, predicted_ratings_df, merge_dataset))"
      ],
      "metadata": {
        "ExecuteTime": {
          "end_time": "2024-07-07T12:16:04.789044890Z",
          "start_time": "2024-07-07T12:13:47.193872926Z"
        },
        "colab": {
          "base_uri": "https://localhost:8080/"
        },
        "id": "c5e5b434f23d7d0e",
        "outputId": "700975c2-eaae-44f3-c955-2bfcb5bd61bd"
      },
      "id": "c5e5b434f23d7d0e",
      "execution_count": 49
    },
    {
      "cell_type": "code",
      "outputs": [],
      "source": [
        "def recommend_one_movie_for_couple(user1_id, user2_id, predicted_ratings_df, merge_dataset):\n",
        "    \"\"\"\n",
        "    Recommend one movie for a couple of users\n",
        "    \"\"\"\n",
        "    sorted_movie_scores = calculate_couple_score_hybrid(user1_id, user2_id, predicted_ratings_df, merge_dataset)\n",
        "    recommended_movie = merge_dataset[merge_dataset['movieId'] == sorted_movie_scores[0][0]]\n",
        "    return recommended_movie[['movieId', 'title', 'genres', 'cast', 'year']].values[0]"
      ],
      "metadata": {
        "ExecuteTime": {
          "end_time": "2024-07-07T12:16:04.792835085Z",
          "start_time": "2024-07-07T12:16:04.777935152Z"
        },
        "id": "d2acddf423222cbd"
      },
      "id": "d2acddf423222cbd",
      "execution_count": 50
    },
    {
      "cell_type": "code",
      "outputs": [
        {
          "output_type": "stream",
          "name": "stdout",
          "text": [
            "[527 \"Schindler's List\" list(['History', 'Biography', 'Drama', 'War'])\n",
            " list(['nm0001873', 'nm0000229', 'nm0447745']) 1993]\n"
          ]
        }
      ],
      "source": [
        "print(recommend_one_movie_for_couple(1, 2, predicted_ratings_df, merge_dataset))"
      ],
      "metadata": {
        "ExecuteTime": {
          "end_time": "2024-07-07T12:18:15.320801207Z",
          "start_time": "2024-07-07T12:16:04.778225968Z"
        },
        "colab": {
          "base_uri": "https://localhost:8080/"
        },
        "id": "47c8f0533b6a02fa",
        "outputId": "a308eddc-73bf-4de0-df09-c3d9ca1440e8"
      },
      "id": "47c8f0533b6a02fa",
      "execution_count": 51
    },
    {
      "cell_type": "markdown",
      "source": [
        "## Evaluation"
      ],
      "metadata": {
        "collapsed": false,
        "id": "50f31950a0dffccd"
      },
      "id": "50f31950a0dffccd"
    },
    {
      "cell_type": "markdown",
      "source": [
        "### Slit the data into training and testing sets"
      ],
      "metadata": {
        "collapsed": false,
        "id": "a77cb7697e48f9c6"
      },
      "id": "a77cb7697e48f9c6"
    },
    {
      "cell_type": "code",
      "outputs": [
        {
          "output_type": "stream",
          "name": "stdout",
          "text": [
            "The number of rows of the train data is 556352\n",
            "The number of rows of the test data is 139089\n"
          ]
        }
      ],
      "source": [
        "from sklearn.model_selection import train_test_split\n",
        "train_data, test_data = train_test_split(merge_dataset, test_size=0.2)\n",
        "print(f\"The number of rows of the train data is {train_data.shape[0]}\")\n",
        "print(f\"The number of rows of the test data is {test_data.shape[0]}\")"
      ],
      "metadata": {
        "ExecuteTime": {
          "end_time": "2024-07-07T12:18:15.604773403Z",
          "start_time": "2024-07-07T12:18:15.297810526Z"
        },
        "colab": {
          "base_uri": "https://localhost:8080/"
        },
        "id": "d9ca8dd7ec5a5cdc",
        "outputId": "ba61a96a-8c20-4c61-e701-1ef6f80b2066"
      },
      "id": "d9ca8dd7ec5a5cdc",
      "execution_count": 52
    },
    {
      "cell_type": "markdown",
      "source": [
        "### Evaluate the model"
      ],
      "metadata": {
        "collapsed": false,
        "id": "b47ce0ab3ef034be"
      },
      "id": "b47ce0ab3ef034be"
    },
    {
      "cell_type": "code",
      "outputs": [],
      "source": [
        "def make_couple_from_data(data):\n",
        "    \"\"\"\n",
        "    Make couples of users from the data\n",
        "    \"\"\"\n",
        "    couples = []\n",
        "    user_ids = data['userId'].unique()\n",
        "    for i, user1_id in enumerate(user_ids):\n",
        "        for user2_id in user_ids[i + 1:]:\n",
        "            couples.append((user1_id, user2_id))\n",
        "    return couples"
      ],
      "metadata": {
        "ExecuteTime": {
          "end_time": "2024-07-07T12:18:15.611697533Z",
          "start_time": "2024-07-07T12:18:15.604604165Z"
        },
        "id": "761d1c3fb2096f1e"
      },
      "id": "761d1c3fb2096f1e",
      "execution_count": 53
    },
    {
      "cell_type": "code",
      "outputs": [],
      "source": [
        "import random\n",
        "from sklearn.metrics import mean_squared_error\n",
        "def calculate_rmse(test_data, predicted_ratings_df):\n",
        "    \"\"\"\n",
        "    Calculate the Root Mean Squared Error (RMSE) of the model\n",
        "    \"\"\"\n",
        "\n",
        "    actual_ratings = []\n",
        "    predicted_ratings = []\n",
        "\n",
        "    couples = make_couple_from_data(test_data)\n",
        "\n",
        "    # take only 10 couples otherwise this is too big\n",
        "    couples = random.sample(couples, 10)\n",
        "\n",
        "    for user1_id, user2_id in couples:\n",
        "        user1_test_data = test_data[test_data['userId'] == user1_id]\n",
        "        user2_test_data = test_data[test_data['userId'] == user2_id]\n",
        "\n",
        "        # Find movies rated by both users\n",
        "        common_movies = pd.merge(user1_test_data, user2_test_data, on='movieId')\n",
        "\n",
        "        for _, row in common_movies.iterrows():\n",
        "            movie_id = row['movieId']\n",
        "            actual_rating_user1 = row['rating_x']\n",
        "            actual_rating_user2 = row['rating_y']\n",
        "            actual_combined_rating = (actual_rating_user1 + actual_rating_user2) / 2\n",
        "\n",
        "            try:\n",
        "                combined_prediction = combine_predictions(user1_id, user2_id, predicted_ratings_df).loc[movie_id]\n",
        "                actual_ratings.append(actual_combined_rating)\n",
        "                predicted_ratings.append(combined_prediction)\n",
        "            except KeyError:\n",
        "                continue\n",
        "\n",
        "    rmse = np.sqrt(mean_squared_error(actual_ratings, predicted_ratings))\n",
        "    return rmse"
      ],
      "metadata": {
        "is_executing": true,
        "id": "8ad33a1e3451df40"
      },
      "id": "8ad33a1e3451df40",
      "execution_count": 54
    },
    {
      "cell_type": "code",
      "outputs": [
        {
          "output_type": "stream",
          "name": "stdout",
          "text": [
            "1.696809018327508\n"
          ]
        }
      ],
      "source": [
        "print(calculate_rmse(test_data, predicted_ratings_df))"
      ],
      "metadata": {
        "is_executing": true,
        "colab": {
          "base_uri": "https://localhost:8080/"
        },
        "id": "3dda90f13a219678",
        "outputId": "568b546a-a683-4ac0-cafa-399ec36cd3a0"
      },
      "id": "3dda90f13a219678",
      "execution_count": 55
    }
  ],
  "metadata": {
    "kernelspec": {
      "display_name": "Python 3",
      "language": "python",
      "name": "python3"
    },
    "language_info": {
      "codemirror_mode": {
        "name": "ipython",
        "version": 2
      },
      "file_extension": ".py",
      "mimetype": "text/x-python",
      "name": "python",
      "nbconvert_exporter": "python",
      "pygments_lexer": "ipython2",
      "version": "2.7.6"
    },
    "colab": {
      "provenance": []
    }
  },
  "nbformat": 4,
  "nbformat_minor": 5
}